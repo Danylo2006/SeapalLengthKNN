{
 "cells": [
  {
   "cell_type": "code",
   "execution_count": 1,
   "metadata": {},
   "outputs": [],
   "source": [
    "from sklearn import datasets\n",
    "from sklearn.model_selection import train_test_split, GridSearchCV\n",
    "from sklearn.neighbors import KNeighborsClassifier,KNeighborsRegressor\n",
    "from sklearn.dummy import DummyClassifier, DummyRegressor\n",
    "from sklearn.metrics import classification_report, mean_squared_error\n",
    "from sklearn.preprocessing import StandardScaler, LabelEncoder\n",
    "from sklearn.decomposition import PCA\n",
    "\n",
    "import numpy as np\n",
    "import pandas as pd\n",
    "import matplotlib.pyplot as plt"
   ]
  },
  {
   "cell_type": "code",
   "execution_count": 25,
   "metadata": {},
   "outputs": [],
   "source": [
    "%config InlineBackend.figure_format = \"svg\""
   ]
  },
  {
   "cell_type": "code",
   "execution_count": 26,
   "metadata": {},
   "outputs": [],
   "source": [
    "iris = datasets.load_iris()\n",
    "\n",
    "df = pd.DataFrame(iris.data,columns=iris.feature_names)\n",
    "df = df.assign(target=iris.target)"
   ]
  },
  {
   "cell_type": "code",
   "execution_count": 27,
   "metadata": {},
   "outputs": [
    {
     "name": "stderr",
     "output_type": "stream",
     "text": [
      "C:\\Users\\danyl\\AppData\\Local\\Temp\\ipykernel_20864\\2417934678.py:6: FutureWarning: The frame.append method is deprecated and will be removed from pandas in a future version. Use pandas.concat instead.\n",
      "  dfinfo.T.append(df.describe())\n"
     ]
    },
    {
     "data": {
      "text/html": [
       "<div>\n",
       "<style scoped>\n",
       "    .dataframe tbody tr th:only-of-type {\n",
       "        vertical-align: middle;\n",
       "    }\n",
       "\n",
       "    .dataframe tbody tr th {\n",
       "        vertical-align: top;\n",
       "    }\n",
       "\n",
       "    .dataframe thead th {\n",
       "        text-align: right;\n",
       "    }\n",
       "</style>\n",
       "<table border=\"1\" class=\"dataframe\">\n",
       "  <thead>\n",
       "    <tr style=\"text-align: right;\">\n",
       "      <th></th>\n",
       "      <th>sepal length (cm)</th>\n",
       "      <th>sepal width (cm)</th>\n",
       "      <th>petal length (cm)</th>\n",
       "      <th>petal width (cm)</th>\n",
       "      <th>target</th>\n",
       "    </tr>\n",
       "  </thead>\n",
       "  <tbody>\n",
       "    <tr>\n",
       "      <th>dtypes</th>\n",
       "      <td>float64</td>\n",
       "      <td>float64</td>\n",
       "      <td>float64</td>\n",
       "      <td>float64</td>\n",
       "      <td>int32</td>\n",
       "    </tr>\n",
       "    <tr>\n",
       "      <th>count</th>\n",
       "      <td>150</td>\n",
       "      <td>150</td>\n",
       "      <td>150</td>\n",
       "      <td>150</td>\n",
       "      <td>150</td>\n",
       "    </tr>\n",
       "    <tr>\n",
       "      <th>isna</th>\n",
       "      <td>0</td>\n",
       "      <td>0</td>\n",
       "      <td>0</td>\n",
       "      <td>0</td>\n",
       "      <td>0</td>\n",
       "    </tr>\n",
       "    <tr>\n",
       "      <th>count</th>\n",
       "      <td>150.0</td>\n",
       "      <td>150.0</td>\n",
       "      <td>150.0</td>\n",
       "      <td>150.0</td>\n",
       "      <td>150.0</td>\n",
       "    </tr>\n",
       "    <tr>\n",
       "      <th>mean</th>\n",
       "      <td>5.843333</td>\n",
       "      <td>3.057333</td>\n",
       "      <td>3.758</td>\n",
       "      <td>1.199333</td>\n",
       "      <td>1.0</td>\n",
       "    </tr>\n",
       "    <tr>\n",
       "      <th>std</th>\n",
       "      <td>0.828066</td>\n",
       "      <td>0.435866</td>\n",
       "      <td>1.765298</td>\n",
       "      <td>0.762238</td>\n",
       "      <td>0.819232</td>\n",
       "    </tr>\n",
       "    <tr>\n",
       "      <th>min</th>\n",
       "      <td>4.3</td>\n",
       "      <td>2.0</td>\n",
       "      <td>1.0</td>\n",
       "      <td>0.1</td>\n",
       "      <td>0.0</td>\n",
       "    </tr>\n",
       "    <tr>\n",
       "      <th>25%</th>\n",
       "      <td>5.1</td>\n",
       "      <td>2.8</td>\n",
       "      <td>1.6</td>\n",
       "      <td>0.3</td>\n",
       "      <td>0.0</td>\n",
       "    </tr>\n",
       "    <tr>\n",
       "      <th>50%</th>\n",
       "      <td>5.8</td>\n",
       "      <td>3.0</td>\n",
       "      <td>4.35</td>\n",
       "      <td>1.3</td>\n",
       "      <td>1.0</td>\n",
       "    </tr>\n",
       "    <tr>\n",
       "      <th>75%</th>\n",
       "      <td>6.4</td>\n",
       "      <td>3.3</td>\n",
       "      <td>5.1</td>\n",
       "      <td>1.8</td>\n",
       "      <td>2.0</td>\n",
       "    </tr>\n",
       "    <tr>\n",
       "      <th>max</th>\n",
       "      <td>7.9</td>\n",
       "      <td>4.4</td>\n",
       "      <td>6.9</td>\n",
       "      <td>2.5</td>\n",
       "      <td>2.0</td>\n",
       "    </tr>\n",
       "  </tbody>\n",
       "</table>\n",
       "</div>"
      ],
      "text/plain": [
       "       sepal length (cm) sepal width (cm) petal length (cm) petal width (cm)  \\\n",
       "dtypes           float64          float64           float64          float64   \n",
       "count                150              150               150              150   \n",
       "isna                   0                0                 0                0   \n",
       "count              150.0            150.0             150.0            150.0   \n",
       "mean            5.843333         3.057333             3.758         1.199333   \n",
       "std             0.828066         0.435866          1.765298         0.762238   \n",
       "min                  4.3              2.0               1.0              0.1   \n",
       "25%                  5.1              2.8               1.6              0.3   \n",
       "50%                  5.8              3.0              4.35              1.3   \n",
       "75%                  6.4              3.3               5.1              1.8   \n",
       "max                  7.9              4.4               6.9              2.5   \n",
       "\n",
       "          target  \n",
       "dtypes     int32  \n",
       "count        150  \n",
       "isna           0  \n",
       "count      150.0  \n",
       "mean         1.0  \n",
       "std     0.819232  \n",
       "min          0.0  \n",
       "25%          0.0  \n",
       "50%          1.0  \n",
       "75%          2.0  \n",
       "max          2.0  "
      ]
     },
     "execution_count": 27,
     "metadata": {},
     "output_type": "execute_result"
    }
   ],
   "source": [
    "# Compute selected stats\n",
    "dfinfo = pd.DataFrame(df.dtypes,columns=[\"dtypes\"])\n",
    "for (m,n) in zip([df.count(),df.isna().sum()],[\"count\",\"isna\"]):\n",
    "    dfinfo = dfinfo.merge(pd.DataFrame(m,columns=[n]),right_index=True,left_index=True,how=\"inner\");\n",
    "# Add to `describe` output\n",
    "dfinfo.T.append(df.describe())"
   ]
  },
  {
   "cell_type": "code",
   "execution_count": 28,
   "metadata": {},
   "outputs": [
    {
     "data": {
      "image/svg+xml": "<?xml version=\"1.0\" encoding=\"utf-8\" standalone=\"no\"?>\n<!DOCTYPE svg PUBLIC \"-//W3C//DTD SVG 1.1//EN\"\n  \"http://www.w3.org/Graphics/SVG/1.1/DTD/svg11.dtd\">\n<svg xmlns:xlink=\"http://www.w3.org/1999/xlink\" width=\"533.78pt\" height=\"152.861094pt\" viewBox=\"0 0 533.78 152.861094\" xmlns=\"http://www.w3.org/2000/svg\" version=\"1.1\">\n <metadata>\n  <rdf:RDF xmlns:dc=\"http://purl.org/dc/elements/1.1/\" xmlns:cc=\"http://creativecommons.org/ns#\" xmlns:rdf=\"http://www.w3.org/1999/02/22-rdf-syntax-ns#\">\n   <cc:Work>\n    <dc:type rdf:resource=\"http://purl.org/dc/dcmitype/StillImage\"/>\n    <dc:date>2023-03-12T11:06:54.212150</dc:date>\n    <dc:format>image/svg+xml</dc:format>\n    <dc:creator>\n     <cc:Agent>\n      <dc:title>Matplotlib v3.7.0, https://matplotlib.org/</dc:title>\n     </cc:Agent>\n    </dc:creator>\n   </cc:Work>\n  </rdf:RDF>\n </metadata>\n <defs>\n  <style type=\"text/css\">*{stroke-linejoin: round; stroke-linecap: butt}</style>\n </defs>\n <g id=\"figure_1\">\n  <g id=\"patch_1\">\n   <path d=\"M 0 152.861094 \nL 533.78 152.861094 \nL 533.78 0 \nL 0 0 \nz\n\" style=\"fill: #ffffff\"/>\n  </g>\n  <g id=\"axes_1\">\n   <g id=\"patch_2\">\n    <path d=\"M 24.38 130.918594 \nL 110.966207 130.918594 \nL 110.966207 20.038594 \nL 24.38 20.038594 \nz\n\" style=\"fill: #ffffff\"/>\n   </g>\n   <g id=\"patch_3\">\n    <path d=\"M 28.315737 130.918594 \nL 34.370716 130.918594 \nL 34.370716 109.798594 \nL 28.315737 109.798594 \nz\n\" clip-path=\"url(#pef57badfea)\" style=\"fill: #1f77b4\"/>\n   </g>\n   <g id=\"patch_4\">\n    <path d=\"M 34.370716 130.918594 \nL 40.425696 130.918594 \nL 40.425696 84.454594 \nL 34.370716 84.454594 \nz\n\" clip-path=\"url(#pef57badfea)\" style=\"fill: #1f77b4\"/>\n   </g>\n   <g id=\"patch_5\">\n    <path d=\"M 40.425696 130.918594 \nL 46.480675 130.918594 \nL 46.480675 25.318594 \nL 40.425696 25.318594 \nz\n\" clip-path=\"url(#pef57badfea)\" style=\"fill: #1f77b4\"/>\n   </g>\n   <g id=\"patch_6\">\n    <path d=\"M 46.480675 130.918594 \nL 52.535655 130.918594 \nL 52.535655 84.454594 \nL 46.480675 84.454594 \nz\n\" clip-path=\"url(#pef57badfea)\" style=\"fill: #1f77b4\"/>\n   </g>\n   <g id=\"patch_7\">\n    <path d=\"M 52.535655 130.918594 \nL 58.590634 130.918594 \nL 58.590634 76.006594 \nL 52.535655 76.006594 \nz\n\" clip-path=\"url(#pef57badfea)\" style=\"fill: #1f77b4\"/>\n   </g>\n   <g id=\"patch_8\">\n    <path d=\"M 58.590634 130.918594 \nL 64.645614 130.918594 \nL 64.645614 54.886594 \nL 58.590634 54.886594 \nz\n\" clip-path=\"url(#pef57badfea)\" style=\"fill: #1f77b4\"/>\n   </g>\n   <g id=\"patch_9\">\n    <path d=\"M 64.645614 130.918594 \nL 70.700593 130.918594 \nL 70.700593 63.334594 \nL 64.645614 63.334594 \nz\n\" clip-path=\"url(#pef57badfea)\" style=\"fill: #1f77b4\"/>\n   </g>\n   <g id=\"patch_10\">\n    <path d=\"M 70.700593 130.918594 \nL 76.755573 130.918594 \nL 76.755573 42.214594 \nL 70.700593 42.214594 \nz\n\" clip-path=\"url(#pef57badfea)\" style=\"fill: #1f77b4\"/>\n   </g>\n   <g id=\"patch_11\">\n    <path d=\"M 76.755573 130.918594 \nL 82.810552 130.918594 \nL 82.810552 88.678594 \nL 76.755573 88.678594 \nz\n\" clip-path=\"url(#pef57badfea)\" style=\"fill: #1f77b4\"/>\n   </g>\n   <g id=\"patch_12\">\n    <path d=\"M 82.810552 130.918594 \nL 88.865532 130.918594 \nL 88.865532 97.126594 \nL 82.810552 97.126594 \nz\n\" clip-path=\"url(#pef57badfea)\" style=\"fill: #1f77b4\"/>\n   </g>\n   <g id=\"patch_13\">\n    <path d=\"M 88.865532 130.918594 \nL 94.920511 130.918594 \nL 94.920511 109.798594 \nL 88.865532 109.798594 \nz\n\" clip-path=\"url(#pef57badfea)\" style=\"fill: #1f77b4\"/>\n   </g>\n   <g id=\"patch_14\">\n    <path d=\"M 94.920511 130.918594 \nL 100.975491 130.918594 \nL 100.975491 122.470594 \nL 94.920511 122.470594 \nz\n\" clip-path=\"url(#pef57badfea)\" style=\"fill: #1f77b4\"/>\n   </g>\n   <g id=\"patch_15\">\n    <path d=\"M 100.975491 130.918594 \nL 107.03047 130.918594 \nL 107.03047 109.798594 \nL 100.975491 109.798594 \nz\n\" clip-path=\"url(#pef57badfea)\" style=\"fill: #1f77b4\"/>\n   </g>\n   <g id=\"matplotlib.axis_1\">\n    <g id=\"xtick_1\">\n     <g id=\"line2d_1\">\n      <defs>\n       <path id=\"m829596846c\" d=\"M 0 0 \nL 0 3.5 \n\" style=\"stroke: #000000; stroke-width: 0.8\"/>\n      </defs>\n      <g>\n       <use xlink:href=\"#m829596846c\" x=\"65.486583\" y=\"130.918594\" style=\"stroke: #000000; stroke-width: 0.8\"/>\n      </g>\n     </g>\n     <g id=\"text_1\">\n      <!-- 6 -->\n      <g transform=\"translate(62.941583 143.997344) scale(0.08 -0.08)\">\n       <defs>\n        <path id=\"DejaVuSans-36\" d=\"M 2113 2584 \nQ 1688 2584 1439 2293 \nQ 1191 2003 1191 1497 \nQ 1191 994 1439 701 \nQ 1688 409 2113 409 \nQ 2538 409 2786 701 \nQ 3034 994 3034 1497 \nQ 3034 2003 2786 2293 \nQ 2538 2584 2113 2584 \nz\nM 3366 4563 \nL 3366 3988 \nQ 3128 4100 2886 4159 \nQ 2644 4219 2406 4219 \nQ 1781 4219 1451 3797 \nQ 1122 3375 1075 2522 \nQ 1259 2794 1537 2939 \nQ 1816 3084 2150 3084 \nQ 2853 3084 3261 2657 \nQ 3669 2231 3669 1497 \nQ 3669 778 3244 343 \nQ 2819 -91 2113 -91 \nQ 1303 -91 875 529 \nQ 447 1150 447 2328 \nQ 447 3434 972 4092 \nQ 1497 4750 2381 4750 \nQ 2619 4750 2861 4703 \nQ 3103 4656 3366 4563 \nz\n\" transform=\"scale(0.015625)\"/>\n       </defs>\n       <use xlink:href=\"#DejaVuSans-36\"/>\n      </g>\n     </g>\n    </g>\n    <g id=\"xtick_2\">\n     <g id=\"line2d_2\">\n      <g>\n       <use xlink:href=\"#m829596846c\" x=\"109.216991\" y=\"130.918594\" style=\"stroke: #000000; stroke-width: 0.8\"/>\n      </g>\n     </g>\n     <g id=\"text_2\">\n      <!-- 8 -->\n      <g transform=\"translate(106.671991 143.997344) scale(0.08 -0.08)\">\n       <defs>\n        <path id=\"DejaVuSans-38\" d=\"M 2034 2216 \nQ 1584 2216 1326 1975 \nQ 1069 1734 1069 1313 \nQ 1069 891 1326 650 \nQ 1584 409 2034 409 \nQ 2484 409 2743 651 \nQ 3003 894 3003 1313 \nQ 3003 1734 2745 1975 \nQ 2488 2216 2034 2216 \nz\nM 1403 2484 \nQ 997 2584 770 2862 \nQ 544 3141 544 3541 \nQ 544 4100 942 4425 \nQ 1341 4750 2034 4750 \nQ 2731 4750 3128 4425 \nQ 3525 4100 3525 3541 \nQ 3525 3141 3298 2862 \nQ 3072 2584 2669 2484 \nQ 3125 2378 3379 2068 \nQ 3634 1759 3634 1313 \nQ 3634 634 3220 271 \nQ 2806 -91 2034 -91 \nQ 1263 -91 848 271 \nQ 434 634 434 1313 \nQ 434 1759 690 2068 \nQ 947 2378 1403 2484 \nz\nM 1172 3481 \nQ 1172 3119 1398 2916 \nQ 1625 2713 2034 2713 \nQ 2441 2713 2670 2916 \nQ 2900 3119 2900 3481 \nQ 2900 3844 2670 4047 \nQ 2441 4250 2034 4250 \nQ 1625 4250 1398 4047 \nQ 1172 3844 1172 3481 \nz\n\" transform=\"scale(0.015625)\"/>\n       </defs>\n       <use xlink:href=\"#DejaVuSans-38\"/>\n      </g>\n     </g>\n    </g>\n   </g>\n   <g id=\"matplotlib.axis_2\">\n    <g id=\"ytick_1\">\n     <g id=\"line2d_3\">\n      <defs>\n       <path id=\"m95fa0fd3b3\" d=\"M 0 0 \nL -3.5 0 \n\" style=\"stroke: #000000; stroke-width: 0.8\"/>\n      </defs>\n      <g>\n       <use xlink:href=\"#m95fa0fd3b3\" x=\"24.38\" y=\"130.918594\" style=\"stroke: #000000; stroke-width: 0.8\"/>\n      </g>\n     </g>\n     <g id=\"text_3\">\n      <!-- 0 -->\n      <g transform=\"translate(12.29 133.957969) scale(0.08 -0.08)\">\n       <defs>\n        <path id=\"DejaVuSans-30\" d=\"M 2034 4250 \nQ 1547 4250 1301 3770 \nQ 1056 3291 1056 2328 \nQ 1056 1369 1301 889 \nQ 1547 409 2034 409 \nQ 2525 409 2770 889 \nQ 3016 1369 3016 2328 \nQ 3016 3291 2770 3770 \nQ 2525 4250 2034 4250 \nz\nM 2034 4750 \nQ 2819 4750 3233 4129 \nQ 3647 3509 3647 2328 \nQ 3647 1150 3233 529 \nQ 2819 -91 2034 -91 \nQ 1250 -91 836 529 \nQ 422 1150 422 2328 \nQ 422 3509 836 4129 \nQ 1250 4750 2034 4750 \nz\n\" transform=\"scale(0.015625)\"/>\n       </defs>\n       <use xlink:href=\"#DejaVuSans-30\"/>\n      </g>\n     </g>\n    </g>\n    <g id=\"ytick_2\">\n     <g id=\"line2d_4\">\n      <g>\n       <use xlink:href=\"#m95fa0fd3b3\" x=\"24.38\" y=\"109.798594\" style=\"stroke: #000000; stroke-width: 0.8\"/>\n      </g>\n     </g>\n     <g id=\"text_4\">\n      <!-- 5 -->\n      <g transform=\"translate(12.29 112.837969) scale(0.08 -0.08)\">\n       <defs>\n        <path id=\"DejaVuSans-35\" d=\"M 691 4666 \nL 3169 4666 \nL 3169 4134 \nL 1269 4134 \nL 1269 2991 \nQ 1406 3038 1543 3061 \nQ 1681 3084 1819 3084 \nQ 2600 3084 3056 2656 \nQ 3513 2228 3513 1497 \nQ 3513 744 3044 326 \nQ 2575 -91 1722 -91 \nQ 1428 -91 1123 -41 \nQ 819 9 494 109 \nL 494 744 \nQ 775 591 1075 516 \nQ 1375 441 1709 441 \nQ 2250 441 2565 725 \nQ 2881 1009 2881 1497 \nQ 2881 1984 2565 2268 \nQ 2250 2553 1709 2553 \nQ 1456 2553 1204 2497 \nQ 953 2441 691 2322 \nL 691 4666 \nz\n\" transform=\"scale(0.015625)\"/>\n       </defs>\n       <use xlink:href=\"#DejaVuSans-35\"/>\n      </g>\n     </g>\n    </g>\n    <g id=\"ytick_3\">\n     <g id=\"line2d_5\">\n      <g>\n       <use xlink:href=\"#m95fa0fd3b3\" x=\"24.38\" y=\"88.678594\" style=\"stroke: #000000; stroke-width: 0.8\"/>\n      </g>\n     </g>\n     <g id=\"text_5\">\n      <!-- 10 -->\n      <g transform=\"translate(7.2 91.717969) scale(0.08 -0.08)\">\n       <defs>\n        <path id=\"DejaVuSans-31\" d=\"M 794 531 \nL 1825 531 \nL 1825 4091 \nL 703 3866 \nL 703 4441 \nL 1819 4666 \nL 2450 4666 \nL 2450 531 \nL 3481 531 \nL 3481 0 \nL 794 0 \nL 794 531 \nz\n\" transform=\"scale(0.015625)\"/>\n       </defs>\n       <use xlink:href=\"#DejaVuSans-31\"/>\n       <use xlink:href=\"#DejaVuSans-30\" x=\"63.623047\"/>\n      </g>\n     </g>\n    </g>\n    <g id=\"ytick_4\">\n     <g id=\"line2d_6\">\n      <g>\n       <use xlink:href=\"#m95fa0fd3b3\" x=\"24.38\" y=\"67.558594\" style=\"stroke: #000000; stroke-width: 0.8\"/>\n      </g>\n     </g>\n     <g id=\"text_6\">\n      <!-- 15 -->\n      <g transform=\"translate(7.2 70.597969) scale(0.08 -0.08)\">\n       <use xlink:href=\"#DejaVuSans-31\"/>\n       <use xlink:href=\"#DejaVuSans-35\" x=\"63.623047\"/>\n      </g>\n     </g>\n    </g>\n    <g id=\"ytick_5\">\n     <g id=\"line2d_7\">\n      <g>\n       <use xlink:href=\"#m95fa0fd3b3\" x=\"24.38\" y=\"46.438594\" style=\"stroke: #000000; stroke-width: 0.8\"/>\n      </g>\n     </g>\n     <g id=\"text_7\">\n      <!-- 20 -->\n      <g transform=\"translate(7.2 49.477969) scale(0.08 -0.08)\">\n       <defs>\n        <path id=\"DejaVuSans-32\" d=\"M 1228 531 \nL 3431 531 \nL 3431 0 \nL 469 0 \nL 469 531 \nQ 828 903 1448 1529 \nQ 2069 2156 2228 2338 \nQ 2531 2678 2651 2914 \nQ 2772 3150 2772 3378 \nQ 2772 3750 2511 3984 \nQ 2250 4219 1831 4219 \nQ 1534 4219 1204 4116 \nQ 875 4013 500 3803 \nL 500 4441 \nQ 881 4594 1212 4672 \nQ 1544 4750 1819 4750 \nQ 2544 4750 2975 4387 \nQ 3406 4025 3406 3419 \nQ 3406 3131 3298 2873 \nQ 3191 2616 2906 2266 \nQ 2828 2175 2409 1742 \nQ 1991 1309 1228 531 \nz\n\" transform=\"scale(0.015625)\"/>\n       </defs>\n       <use xlink:href=\"#DejaVuSans-32\"/>\n       <use xlink:href=\"#DejaVuSans-30\" x=\"63.623047\"/>\n      </g>\n     </g>\n    </g>\n    <g id=\"ytick_6\">\n     <g id=\"line2d_8\">\n      <g>\n       <use xlink:href=\"#m95fa0fd3b3\" x=\"24.38\" y=\"25.318594\" style=\"stroke: #000000; stroke-width: 0.8\"/>\n      </g>\n     </g>\n     <g id=\"text_8\">\n      <!-- 25 -->\n      <g transform=\"translate(7.2 28.357969) scale(0.08 -0.08)\">\n       <use xlink:href=\"#DejaVuSans-32\"/>\n       <use xlink:href=\"#DejaVuSans-35\" x=\"63.623047\"/>\n      </g>\n     </g>\n    </g>\n   </g>\n   <g id=\"patch_16\">\n    <path d=\"M 24.38 130.918594 \nL 24.38 20.038594 \n\" style=\"fill: none; stroke: #000000; stroke-width: 0.8; stroke-linejoin: miter; stroke-linecap: square\"/>\n   </g>\n   <g id=\"patch_17\">\n    <path d=\"M 110.966207 130.918594 \nL 110.966207 20.038594 \n\" style=\"fill: none; stroke: #000000; stroke-width: 0.8; stroke-linejoin: miter; stroke-linecap: square\"/>\n   </g>\n   <g id=\"patch_18\">\n    <path d=\"M 24.38 130.918594 \nL 110.966207 130.918594 \n\" style=\"fill: none; stroke: #000000; stroke-width: 0.8; stroke-linejoin: miter; stroke-linecap: square\"/>\n   </g>\n   <g id=\"patch_19\">\n    <path d=\"M 24.38 20.038594 \nL 110.966207 20.038594 \n\" style=\"fill: none; stroke: #000000; stroke-width: 0.8; stroke-linejoin: miter; stroke-linecap: square\"/>\n   </g>\n   <g id=\"text_9\">\n    <!-- sepal length (cm) -->\n    <g transform=\"translate(28.122322 14.038594) scale(0.09 -0.09)\">\n     <defs>\n      <path id=\"DejaVuSans-73\" d=\"M 2834 3397 \nL 2834 2853 \nQ 2591 2978 2328 3040 \nQ 2066 3103 1784 3103 \nQ 1356 3103 1142 2972 \nQ 928 2841 928 2578 \nQ 928 2378 1081 2264 \nQ 1234 2150 1697 2047 \nL 1894 2003 \nQ 2506 1872 2764 1633 \nQ 3022 1394 3022 966 \nQ 3022 478 2636 193 \nQ 2250 -91 1575 -91 \nQ 1294 -91 989 -36 \nQ 684 19 347 128 \nL 347 722 \nQ 666 556 975 473 \nQ 1284 391 1588 391 \nQ 1994 391 2212 530 \nQ 2431 669 2431 922 \nQ 2431 1156 2273 1281 \nQ 2116 1406 1581 1522 \nL 1381 1569 \nQ 847 1681 609 1914 \nQ 372 2147 372 2553 \nQ 372 3047 722 3315 \nQ 1072 3584 1716 3584 \nQ 2034 3584 2315 3537 \nQ 2597 3491 2834 3397 \nz\n\" transform=\"scale(0.015625)\"/>\n      <path id=\"DejaVuSans-65\" d=\"M 3597 1894 \nL 3597 1613 \nL 953 1613 \nQ 991 1019 1311 708 \nQ 1631 397 2203 397 \nQ 2534 397 2845 478 \nQ 3156 559 3463 722 \nL 3463 178 \nQ 3153 47 2828 -22 \nQ 2503 -91 2169 -91 \nQ 1331 -91 842 396 \nQ 353 884 353 1716 \nQ 353 2575 817 3079 \nQ 1281 3584 2069 3584 \nQ 2775 3584 3186 3129 \nQ 3597 2675 3597 1894 \nz\nM 3022 2063 \nQ 3016 2534 2758 2815 \nQ 2500 3097 2075 3097 \nQ 1594 3097 1305 2825 \nQ 1016 2553 972 2059 \nL 3022 2063 \nz\n\" transform=\"scale(0.015625)\"/>\n      <path id=\"DejaVuSans-70\" d=\"M 1159 525 \nL 1159 -1331 \nL 581 -1331 \nL 581 3500 \nL 1159 3500 \nL 1159 2969 \nQ 1341 3281 1617 3432 \nQ 1894 3584 2278 3584 \nQ 2916 3584 3314 3078 \nQ 3713 2572 3713 1747 \nQ 3713 922 3314 415 \nQ 2916 -91 2278 -91 \nQ 1894 -91 1617 61 \nQ 1341 213 1159 525 \nz\nM 3116 1747 \nQ 3116 2381 2855 2742 \nQ 2594 3103 2138 3103 \nQ 1681 3103 1420 2742 \nQ 1159 2381 1159 1747 \nQ 1159 1113 1420 752 \nQ 1681 391 2138 391 \nQ 2594 391 2855 752 \nQ 3116 1113 3116 1747 \nz\n\" transform=\"scale(0.015625)\"/>\n      <path id=\"DejaVuSans-61\" d=\"M 2194 1759 \nQ 1497 1759 1228 1600 \nQ 959 1441 959 1056 \nQ 959 750 1161 570 \nQ 1363 391 1709 391 \nQ 2188 391 2477 730 \nQ 2766 1069 2766 1631 \nL 2766 1759 \nL 2194 1759 \nz\nM 3341 1997 \nL 3341 0 \nL 2766 0 \nL 2766 531 \nQ 2569 213 2275 61 \nQ 1981 -91 1556 -91 \nQ 1019 -91 701 211 \nQ 384 513 384 1019 \nQ 384 1609 779 1909 \nQ 1175 2209 1959 2209 \nL 2766 2209 \nL 2766 2266 \nQ 2766 2663 2505 2880 \nQ 2244 3097 1772 3097 \nQ 1472 3097 1187 3025 \nQ 903 2953 641 2809 \nL 641 3341 \nQ 956 3463 1253 3523 \nQ 1550 3584 1831 3584 \nQ 2591 3584 2966 3190 \nQ 3341 2797 3341 1997 \nz\n\" transform=\"scale(0.015625)\"/>\n      <path id=\"DejaVuSans-6c\" d=\"M 603 4863 \nL 1178 4863 \nL 1178 0 \nL 603 0 \nL 603 4863 \nz\n\" transform=\"scale(0.015625)\"/>\n      <path id=\"DejaVuSans-20\" transform=\"scale(0.015625)\"/>\n      <path id=\"DejaVuSans-6e\" d=\"M 3513 2113 \nL 3513 0 \nL 2938 0 \nL 2938 2094 \nQ 2938 2591 2744 2837 \nQ 2550 3084 2163 3084 \nQ 1697 3084 1428 2787 \nQ 1159 2491 1159 1978 \nL 1159 0 \nL 581 0 \nL 581 3500 \nL 1159 3500 \nL 1159 2956 \nQ 1366 3272 1645 3428 \nQ 1925 3584 2291 3584 \nQ 2894 3584 3203 3211 \nQ 3513 2838 3513 2113 \nz\n\" transform=\"scale(0.015625)\"/>\n      <path id=\"DejaVuSans-67\" d=\"M 2906 1791 \nQ 2906 2416 2648 2759 \nQ 2391 3103 1925 3103 \nQ 1463 3103 1205 2759 \nQ 947 2416 947 1791 \nQ 947 1169 1205 825 \nQ 1463 481 1925 481 \nQ 2391 481 2648 825 \nQ 2906 1169 2906 1791 \nz\nM 3481 434 \nQ 3481 -459 3084 -895 \nQ 2688 -1331 1869 -1331 \nQ 1566 -1331 1297 -1286 \nQ 1028 -1241 775 -1147 \nL 775 -588 \nQ 1028 -725 1275 -790 \nQ 1522 -856 1778 -856 \nQ 2344 -856 2625 -561 \nQ 2906 -266 2906 331 \nL 2906 616 \nQ 2728 306 2450 153 \nQ 2172 0 1784 0 \nQ 1141 0 747 490 \nQ 353 981 353 1791 \nQ 353 2603 747 3093 \nQ 1141 3584 1784 3584 \nQ 2172 3584 2450 3431 \nQ 2728 3278 2906 2969 \nL 2906 3500 \nL 3481 3500 \nL 3481 434 \nz\n\" transform=\"scale(0.015625)\"/>\n      <path id=\"DejaVuSans-74\" d=\"M 1172 4494 \nL 1172 3500 \nL 2356 3500 \nL 2356 3053 \nL 1172 3053 \nL 1172 1153 \nQ 1172 725 1289 603 \nQ 1406 481 1766 481 \nL 2356 481 \nL 2356 0 \nL 1766 0 \nQ 1100 0 847 248 \nQ 594 497 594 1153 \nL 594 3053 \nL 172 3053 \nL 172 3500 \nL 594 3500 \nL 594 4494 \nL 1172 4494 \nz\n\" transform=\"scale(0.015625)\"/>\n      <path id=\"DejaVuSans-68\" d=\"M 3513 2113 \nL 3513 0 \nL 2938 0 \nL 2938 2094 \nQ 2938 2591 2744 2837 \nQ 2550 3084 2163 3084 \nQ 1697 3084 1428 2787 \nQ 1159 2491 1159 1978 \nL 1159 0 \nL 581 0 \nL 581 4863 \nL 1159 4863 \nL 1159 2956 \nQ 1366 3272 1645 3428 \nQ 1925 3584 2291 3584 \nQ 2894 3584 3203 3211 \nQ 3513 2838 3513 2113 \nz\n\" transform=\"scale(0.015625)\"/>\n      <path id=\"DejaVuSans-28\" d=\"M 1984 4856 \nQ 1566 4138 1362 3434 \nQ 1159 2731 1159 2009 \nQ 1159 1288 1364 580 \nQ 1569 -128 1984 -844 \nL 1484 -844 \nQ 1016 -109 783 600 \nQ 550 1309 550 2009 \nQ 550 2706 781 3412 \nQ 1013 4119 1484 4856 \nL 1984 4856 \nz\n\" transform=\"scale(0.015625)\"/>\n      <path id=\"DejaVuSans-63\" d=\"M 3122 3366 \nL 3122 2828 \nQ 2878 2963 2633 3030 \nQ 2388 3097 2138 3097 \nQ 1578 3097 1268 2742 \nQ 959 2388 959 1747 \nQ 959 1106 1268 751 \nQ 1578 397 2138 397 \nQ 2388 397 2633 464 \nQ 2878 531 3122 666 \nL 3122 134 \nQ 2881 22 2623 -34 \nQ 2366 -91 2075 -91 \nQ 1284 -91 818 406 \nQ 353 903 353 1747 \nQ 353 2603 823 3093 \nQ 1294 3584 2113 3584 \nQ 2378 3584 2631 3529 \nQ 2884 3475 3122 3366 \nz\n\" transform=\"scale(0.015625)\"/>\n      <path id=\"DejaVuSans-6d\" d=\"M 3328 2828 \nQ 3544 3216 3844 3400 \nQ 4144 3584 4550 3584 \nQ 5097 3584 5394 3201 \nQ 5691 2819 5691 2113 \nL 5691 0 \nL 5113 0 \nL 5113 2094 \nQ 5113 2597 4934 2840 \nQ 4756 3084 4391 3084 \nQ 3944 3084 3684 2787 \nQ 3425 2491 3425 1978 \nL 3425 0 \nL 2847 0 \nL 2847 2094 \nQ 2847 2600 2669 2842 \nQ 2491 3084 2119 3084 \nQ 1678 3084 1418 2786 \nQ 1159 2488 1159 1978 \nL 1159 0 \nL 581 0 \nL 581 3500 \nL 1159 3500 \nL 1159 2956 \nQ 1356 3278 1631 3431 \nQ 1906 3584 2284 3584 \nQ 2666 3584 2933 3390 \nQ 3200 3197 3328 2828 \nz\n\" transform=\"scale(0.015625)\"/>\n      <path id=\"DejaVuSans-29\" d=\"M 513 4856 \nL 1013 4856 \nQ 1481 4119 1714 3412 \nQ 1947 2706 1947 2009 \nQ 1947 1309 1714 600 \nQ 1481 -109 1013 -844 \nL 513 -844 \nQ 928 -128 1133 580 \nQ 1338 1288 1338 2009 \nQ 1338 2731 1133 3434 \nQ 928 4138 513 4856 \nz\n\" transform=\"scale(0.015625)\"/>\n     </defs>\n     <use xlink:href=\"#DejaVuSans-73\"/>\n     <use xlink:href=\"#DejaVuSans-65\" x=\"52.099609\"/>\n     <use xlink:href=\"#DejaVuSans-70\" x=\"113.623047\"/>\n     <use xlink:href=\"#DejaVuSans-61\" x=\"177.099609\"/>\n     <use xlink:href=\"#DejaVuSans-6c\" x=\"238.378906\"/>\n     <use xlink:href=\"#DejaVuSans-20\" x=\"266.162109\"/>\n     <use xlink:href=\"#DejaVuSans-6c\" x=\"297.949219\"/>\n     <use xlink:href=\"#DejaVuSans-65\" x=\"325.732422\"/>\n     <use xlink:href=\"#DejaVuSans-6e\" x=\"387.255859\"/>\n     <use xlink:href=\"#DejaVuSans-67\" x=\"450.634766\"/>\n     <use xlink:href=\"#DejaVuSans-74\" x=\"514.111328\"/>\n     <use xlink:href=\"#DejaVuSans-68\" x=\"553.320312\"/>\n     <use xlink:href=\"#DejaVuSans-20\" x=\"616.699219\"/>\n     <use xlink:href=\"#DejaVuSans-28\" x=\"648.486328\"/>\n     <use xlink:href=\"#DejaVuSans-63\" x=\"687.5\"/>\n     <use xlink:href=\"#DejaVuSans-6d\" x=\"742.480469\"/>\n     <use xlink:href=\"#DejaVuSans-29\" x=\"839.892578\"/>\n    </g>\n   </g>\n  </g>\n  <g id=\"axes_2\">\n   <g id=\"patch_20\">\n    <path d=\"M 128.283448 130.918594 \nL 214.869655 130.918594 \nL 214.869655 20.038594 \nL 128.283448 20.038594 \nz\n\" style=\"fill: #ffffff\"/>\n   </g>\n   <g id=\"patch_21\">\n    <path d=\"M 132.219185 130.918594 \nL 138.274164 130.918594 \nL 138.274164 128.06454 \nL 132.219185 128.06454 \nz\n\" clip-path=\"url(#p5a4a365d0a)\" style=\"fill: #1f77b4\"/>\n   </g>\n   <g id=\"patch_22\">\n    <path d=\"M 138.274164 130.918594 \nL 144.329144 130.918594 \nL 144.329144 110.940215 \nL 138.274164 110.940215 \nz\n\" clip-path=\"url(#p5a4a365d0a)\" style=\"fill: #1f77b4\"/>\n   </g>\n   <g id=\"patch_23\">\n    <path d=\"M 144.329144 130.918594 \nL 150.384123 130.918594 \nL 150.384123 99.523999 \nL 144.329144 99.523999 \nz\n\" clip-path=\"url(#p5a4a365d0a)\" style=\"fill: #1f77b4\"/>\n   </g>\n   <g id=\"patch_24\">\n    <path d=\"M 150.384123 130.918594 \nL 156.439103 130.918594 \nL 156.439103 90.961837 \nL 150.384123 90.961837 \nz\n\" clip-path=\"url(#p5a4a365d0a)\" style=\"fill: #1f77b4\"/>\n   </g>\n   <g id=\"patch_25\">\n    <path d=\"M 156.439103 130.918594 \nL 162.494082 130.918594 \nL 162.494082 62.421296 \nL 156.439103 62.421296 \nz\n\" clip-path=\"url(#p5a4a365d0a)\" style=\"fill: #1f77b4\"/>\n   </g>\n   <g id=\"patch_26\">\n    <path d=\"M 162.494082 130.918594 \nL 168.549062 130.918594 \nL 168.549062 25.318594 \nL 162.494082 25.318594 \nz\n\" clip-path=\"url(#p5a4a365d0a)\" style=\"fill: #1f77b4\"/>\n   </g>\n   <g id=\"patch_27\">\n    <path d=\"M 168.549062 130.918594 \nL 174.604041 130.918594 \nL 174.604041 93.815891 \nL 168.549062 93.815891 \nz\n\" clip-path=\"url(#p5a4a365d0a)\" style=\"fill: #1f77b4\"/>\n   </g>\n   <g id=\"patch_28\">\n    <path d=\"M 174.604041 130.918594 \nL 180.659021 130.918594 \nL 180.659021 79.545621 \nL 174.604041 79.545621 \nz\n\" clip-path=\"url(#p5a4a365d0a)\" style=\"fill: #1f77b4\"/>\n   </g>\n   <g id=\"patch_29\">\n    <path d=\"M 180.659021 130.918594 \nL 186.714 130.918594 \nL 186.714 102.378053 \nL 180.659021 102.378053 \nz\n\" clip-path=\"url(#p5a4a365d0a)\" style=\"fill: #1f77b4\"/>\n   </g>\n   <g id=\"patch_30\">\n    <path d=\"M 186.714 130.918594 \nL 192.76898 130.918594 \nL 192.76898 105.232107 \nL 186.714 105.232107 \nz\n\" clip-path=\"url(#p5a4a365d0a)\" style=\"fill: #1f77b4\"/>\n   </g>\n   <g id=\"patch_31\">\n    <path d=\"M 192.76898 130.918594 \nL 198.823959 130.918594 \nL 198.823959 122.356432 \nL 192.76898 122.356432 \nz\n\" clip-path=\"url(#p5a4a365d0a)\" style=\"fill: #1f77b4\"/>\n   </g>\n   <g id=\"patch_32\">\n    <path d=\"M 198.823959 130.918594 \nL 204.878939 130.918594 \nL 204.878939 125.210486 \nL 198.823959 125.210486 \nz\n\" clip-path=\"url(#p5a4a365d0a)\" style=\"fill: #1f77b4\"/>\n   </g>\n   <g id=\"patch_33\">\n    <path d=\"M 204.878939 130.918594 \nL 210.933918 130.918594 \nL 210.933918 128.06454 \nL 204.878939 128.06454 \nz\n\" clip-path=\"url(#p5a4a365d0a)\" style=\"fill: #1f77b4\"/>\n   </g>\n   <g id=\"matplotlib.axis_3\">\n    <g id=\"xtick_3\">\n     <g id=\"line2d_9\">\n      <g>\n       <use xlink:href=\"#m829596846c\" x=\"132.219185\" y=\"130.918594\" style=\"stroke: #000000; stroke-width: 0.8\"/>\n      </g>\n     </g>\n     <g id=\"text_10\">\n      <!-- 2 -->\n      <g transform=\"translate(129.674185 143.997344) scale(0.08 -0.08)\">\n       <use xlink:href=\"#DejaVuSans-32\"/>\n      </g>\n     </g>\n    </g>\n    <g id=\"xtick_4\">\n     <g id=\"line2d_10\">\n      <g>\n       <use xlink:href=\"#m829596846c\" x=\"165.016991\" y=\"130.918594\" style=\"stroke: #000000; stroke-width: 0.8\"/>\n      </g>\n     </g>\n     <g id=\"text_11\">\n      <!-- 3 -->\n      <g transform=\"translate(162.471991 143.997344) scale(0.08 -0.08)\">\n       <defs>\n        <path id=\"DejaVuSans-33\" d=\"M 2597 2516 \nQ 3050 2419 3304 2112 \nQ 3559 1806 3559 1356 \nQ 3559 666 3084 287 \nQ 2609 -91 1734 -91 \nQ 1441 -91 1130 -33 \nQ 819 25 488 141 \nL 488 750 \nQ 750 597 1062 519 \nQ 1375 441 1716 441 \nQ 2309 441 2620 675 \nQ 2931 909 2931 1356 \nQ 2931 1769 2642 2001 \nQ 2353 2234 1838 2234 \nL 1294 2234 \nL 1294 2753 \nL 1863 2753 \nQ 2328 2753 2575 2939 \nQ 2822 3125 2822 3475 \nQ 2822 3834 2567 4026 \nQ 2313 4219 1838 4219 \nQ 1578 4219 1281 4162 \nQ 984 4106 628 3988 \nL 628 4550 \nQ 988 4650 1302 4700 \nQ 1616 4750 1894 4750 \nQ 2613 4750 3031 4423 \nQ 3450 4097 3450 3541 \nQ 3450 3153 3228 2886 \nQ 3006 2619 2597 2516 \nz\n\" transform=\"scale(0.015625)\"/>\n       </defs>\n       <use xlink:href=\"#DejaVuSans-33\"/>\n      </g>\n     </g>\n    </g>\n    <g id=\"xtick_5\">\n     <g id=\"line2d_11\">\n      <g>\n       <use xlink:href=\"#m829596846c\" x=\"197.814796\" y=\"130.918594\" style=\"stroke: #000000; stroke-width: 0.8\"/>\n      </g>\n     </g>\n     <g id=\"text_12\">\n      <!-- 4 -->\n      <g transform=\"translate(195.269796 143.997344) scale(0.08 -0.08)\">\n       <defs>\n        <path id=\"DejaVuSans-34\" d=\"M 2419 4116 \nL 825 1625 \nL 2419 1625 \nL 2419 4116 \nz\nM 2253 4666 \nL 3047 4666 \nL 3047 1625 \nL 3713 1625 \nL 3713 1100 \nL 3047 1100 \nL 3047 0 \nL 2419 0 \nL 2419 1100 \nL 313 1100 \nL 313 1709 \nL 2253 4666 \nz\n\" transform=\"scale(0.015625)\"/>\n       </defs>\n       <use xlink:href=\"#DejaVuSans-34\"/>\n      </g>\n     </g>\n    </g>\n   </g>\n   <g id=\"matplotlib.axis_4\">\n    <g id=\"ytick_7\">\n     <g id=\"line2d_12\">\n      <g>\n       <use xlink:href=\"#m95fa0fd3b3\" x=\"128.283448\" y=\"130.918594\" style=\"stroke: #000000; stroke-width: 0.8\"/>\n      </g>\n     </g>\n     <g id=\"text_13\">\n      <!-- 0 -->\n      <g transform=\"translate(116.193448 133.957969) scale(0.08 -0.08)\">\n       <use xlink:href=\"#DejaVuSans-30\"/>\n      </g>\n     </g>\n    </g>\n    <g id=\"ytick_8\">\n     <g id=\"line2d_13\">\n      <g>\n       <use xlink:href=\"#m95fa0fd3b3\" x=\"128.283448\" y=\"102.378053\" style=\"stroke: #000000; stroke-width: 0.8\"/>\n      </g>\n     </g>\n     <g id=\"text_14\">\n      <!-- 10 -->\n      <g transform=\"translate(111.103448 105.417428) scale(0.08 -0.08)\">\n       <use xlink:href=\"#DejaVuSans-31\"/>\n       <use xlink:href=\"#DejaVuSans-30\" x=\"63.623047\"/>\n      </g>\n     </g>\n    </g>\n    <g id=\"ytick_9\">\n     <g id=\"line2d_14\">\n      <g>\n       <use xlink:href=\"#m95fa0fd3b3\" x=\"128.283448\" y=\"73.837513\" style=\"stroke: #000000; stroke-width: 0.8\"/>\n      </g>\n     </g>\n     <g id=\"text_15\">\n      <!-- 20 -->\n      <g transform=\"translate(111.103448 76.876888) scale(0.08 -0.08)\">\n       <use xlink:href=\"#DejaVuSans-32\"/>\n       <use xlink:href=\"#DejaVuSans-30\" x=\"63.623047\"/>\n      </g>\n     </g>\n    </g>\n    <g id=\"ytick_10\">\n     <g id=\"line2d_15\">\n      <g>\n       <use xlink:href=\"#m95fa0fd3b3\" x=\"128.283448\" y=\"45.296972\" style=\"stroke: #000000; stroke-width: 0.8\"/>\n      </g>\n     </g>\n     <g id=\"text_16\">\n      <!-- 30 -->\n      <g transform=\"translate(111.103448 48.336347) scale(0.08 -0.08)\">\n       <use xlink:href=\"#DejaVuSans-33\"/>\n       <use xlink:href=\"#DejaVuSans-30\" x=\"63.623047\"/>\n      </g>\n     </g>\n    </g>\n   </g>\n   <g id=\"patch_34\">\n    <path d=\"M 128.283448 130.918594 \nL 128.283448 20.038594 \n\" style=\"fill: none; stroke: #000000; stroke-width: 0.8; stroke-linejoin: miter; stroke-linecap: square\"/>\n   </g>\n   <g id=\"patch_35\">\n    <path d=\"M 214.869655 130.918594 \nL 214.869655 20.038594 \n\" style=\"fill: none; stroke: #000000; stroke-width: 0.8; stroke-linejoin: miter; stroke-linecap: square\"/>\n   </g>\n   <g id=\"patch_36\">\n    <path d=\"M 128.283448 130.918594 \nL 214.869655 130.918594 \n\" style=\"fill: none; stroke: #000000; stroke-width: 0.8; stroke-linejoin: miter; stroke-linecap: square\"/>\n   </g>\n   <g id=\"patch_37\">\n    <path d=\"M 128.283448 20.038594 \nL 214.869655 20.038594 \n\" style=\"fill: none; stroke: #000000; stroke-width: 0.8; stroke-linejoin: miter; stroke-linecap: square\"/>\n   </g>\n   <g id=\"text_17\">\n    <!-- sepal width (cm) -->\n    <g transform=\"translate(133.966395 14.038594) scale(0.09 -0.09)\">\n     <defs>\n      <path id=\"DejaVuSans-77\" d=\"M 269 3500 \nL 844 3500 \nL 1563 769 \nL 2278 3500 \nL 2956 3500 \nL 3675 769 \nL 4391 3500 \nL 4966 3500 \nL 4050 0 \nL 3372 0 \nL 2619 2869 \nL 1863 0 \nL 1184 0 \nL 269 3500 \nz\n\" transform=\"scale(0.015625)\"/>\n      <path id=\"DejaVuSans-69\" d=\"M 603 3500 \nL 1178 3500 \nL 1178 0 \nL 603 0 \nL 603 3500 \nz\nM 603 4863 \nL 1178 4863 \nL 1178 4134 \nL 603 4134 \nL 603 4863 \nz\n\" transform=\"scale(0.015625)\"/>\n      <path id=\"DejaVuSans-64\" d=\"M 2906 2969 \nL 2906 4863 \nL 3481 4863 \nL 3481 0 \nL 2906 0 \nL 2906 525 \nQ 2725 213 2448 61 \nQ 2172 -91 1784 -91 \nQ 1150 -91 751 415 \nQ 353 922 353 1747 \nQ 353 2572 751 3078 \nQ 1150 3584 1784 3584 \nQ 2172 3584 2448 3432 \nQ 2725 3281 2906 2969 \nz\nM 947 1747 \nQ 947 1113 1208 752 \nQ 1469 391 1925 391 \nQ 2381 391 2643 752 \nQ 2906 1113 2906 1747 \nQ 2906 2381 2643 2742 \nQ 2381 3103 1925 3103 \nQ 1469 3103 1208 2742 \nQ 947 2381 947 1747 \nz\n\" transform=\"scale(0.015625)\"/>\n     </defs>\n     <use xlink:href=\"#DejaVuSans-73\"/>\n     <use xlink:href=\"#DejaVuSans-65\" x=\"52.099609\"/>\n     <use xlink:href=\"#DejaVuSans-70\" x=\"113.623047\"/>\n     <use xlink:href=\"#DejaVuSans-61\" x=\"177.099609\"/>\n     <use xlink:href=\"#DejaVuSans-6c\" x=\"238.378906\"/>\n     <use xlink:href=\"#DejaVuSans-20\" x=\"266.162109\"/>\n     <use xlink:href=\"#DejaVuSans-77\" x=\"297.949219\"/>\n     <use xlink:href=\"#DejaVuSans-69\" x=\"379.736328\"/>\n     <use xlink:href=\"#DejaVuSans-64\" x=\"407.519531\"/>\n     <use xlink:href=\"#DejaVuSans-74\" x=\"470.996094\"/>\n     <use xlink:href=\"#DejaVuSans-68\" x=\"510.205078\"/>\n     <use xlink:href=\"#DejaVuSans-20\" x=\"573.583984\"/>\n     <use xlink:href=\"#DejaVuSans-28\" x=\"605.371094\"/>\n     <use xlink:href=\"#DejaVuSans-63\" x=\"644.384766\"/>\n     <use xlink:href=\"#DejaVuSans-6d\" x=\"699.365234\"/>\n     <use xlink:href=\"#DejaVuSans-29\" x=\"796.777344\"/>\n    </g>\n   </g>\n  </g>\n  <g id=\"axes_3\">\n   <g id=\"patch_38\">\n    <path d=\"M 232.186897 130.918594 \nL 318.773103 130.918594 \nL 318.773103 20.038594 \nL 232.186897 20.038594 \nz\n\" style=\"fill: #ffffff\"/>\n   </g>\n   <g id=\"patch_39\">\n    <path d=\"M 236.122633 130.918594 \nL 242.177613 130.918594 \nL 242.177613 33.441671 \nL 236.122633 33.441671 \nz\n\" clip-path=\"url(#p9c3e36f072)\" style=\"fill: #1f77b4\"/>\n   </g>\n   <g id=\"patch_40\">\n    <path d=\"M 242.177613 130.918594 \nL 248.232592 130.918594 \nL 248.232592 25.318594 \nL 242.177613 25.318594 \nz\n\" clip-path=\"url(#p9c3e36f072)\" style=\"fill: #1f77b4\"/>\n   </g>\n   <g id=\"patch_41\">\n    <path d=\"M 248.232592 130.918594 \nL 254.287572 130.918594 \nL 254.287572 130.918594 \nL 248.232592 130.918594 \nz\n\" clip-path=\"url(#p9c3e36f072)\" style=\"fill: #1f77b4\"/>\n   </g>\n   <g id=\"patch_42\">\n    <path d=\"M 254.287572 130.918594 \nL 260.342551 130.918594 \nL 260.342551 130.918594 \nL 254.287572 130.918594 \nz\n\" clip-path=\"url(#p9c3e36f072)\" style=\"fill: #1f77b4\"/>\n   </g>\n   <g id=\"patch_43\">\n    <path d=\"M 260.342551 130.918594 \nL 266.397531 130.918594 \nL 266.397531 126.857055 \nL 260.342551 126.857055 \nz\n\" clip-path=\"url(#p9c3e36f072)\" style=\"fill: #1f77b4\"/>\n   </g>\n   <g id=\"patch_44\">\n    <path d=\"M 266.397531 130.918594 \nL 272.45251 130.918594 \nL 272.45251 106.549363 \nL 266.397531 106.549363 \nz\n\" clip-path=\"url(#p9c3e36f072)\" style=\"fill: #1f77b4\"/>\n   </g>\n   <g id=\"patch_45\">\n    <path d=\"M 272.45251 130.918594 \nL 278.50749 130.918594 \nL 278.50749 82.180132 \nL 272.45251 82.180132 \nz\n\" clip-path=\"url(#p9c3e36f072)\" style=\"fill: #1f77b4\"/>\n   </g>\n   <g id=\"patch_46\">\n    <path d=\"M 278.50749 130.918594 \nL 284.562469 130.918594 \nL 284.562469 45.626286 \nL 278.50749 45.626286 \nz\n\" clip-path=\"url(#p9c3e36f072)\" style=\"fill: #1f77b4\"/>\n   </g>\n   <g id=\"patch_47\">\n    <path d=\"M 284.562469 130.918594 \nL 290.617449 130.918594 \nL 290.617449 57.810901 \nL 284.562469 57.810901 \nz\n\" clip-path=\"url(#p9c3e36f072)\" style=\"fill: #1f77b4\"/>\n   </g>\n   <g id=\"patch_48\">\n    <path d=\"M 290.617449 130.918594 \nL 296.672428 130.918594 \nL 296.672428 61.87244 \nL 290.617449 61.87244 \nz\n\" clip-path=\"url(#p9c3e36f072)\" style=\"fill: #1f77b4\"/>\n   </g>\n   <g id=\"patch_49\">\n    <path d=\"M 296.672428 130.918594 \nL 302.727408 130.918594 \nL 302.727408 74.057055 \nL 296.672428 74.057055 \nz\n\" clip-path=\"url(#p9c3e36f072)\" style=\"fill: #1f77b4\"/>\n   </g>\n   <g id=\"patch_50\">\n    <path d=\"M 302.727408 130.918594 \nL 308.782387 130.918594 \nL 308.782387 102.487825 \nL 302.727408 102.487825 \nz\n\" clip-path=\"url(#p9c3e36f072)\" style=\"fill: #1f77b4\"/>\n   </g>\n   <g id=\"patch_51\">\n    <path d=\"M 308.782387 130.918594 \nL 314.837367 130.918594 \nL 314.837367 114.67244 \nL 308.782387 114.67244 \nz\n\" clip-path=\"url(#p9c3e36f072)\" style=\"fill: #1f77b4\"/>\n   </g>\n   <g id=\"matplotlib.axis_5\">\n    <g id=\"xtick_6\">\n     <g id=\"line2d_16\">\n      <g>\n       <use xlink:href=\"#m829596846c\" x=\"256.134854\" y=\"130.918594\" style=\"stroke: #000000; stroke-width: 0.8\"/>\n      </g>\n     </g>\n     <g id=\"text_18\">\n      <!-- 2.5 -->\n      <g transform=\"translate(249.773604 143.997344) scale(0.08 -0.08)\">\n       <defs>\n        <path id=\"DejaVuSans-2e\" d=\"M 684 794 \nL 1344 794 \nL 1344 0 \nL 684 0 \nL 684 794 \nz\n\" transform=\"scale(0.015625)\"/>\n       </defs>\n       <use xlink:href=\"#DejaVuSans-32\"/>\n       <use xlink:href=\"#DejaVuSans-2e\" x=\"63.623047\"/>\n       <use xlink:href=\"#DejaVuSans-35\" x=\"95.410156\"/>\n      </g>\n     </g>\n    </g>\n    <g id=\"xtick_7\">\n     <g id=\"line2d_17\">\n      <g>\n       <use xlink:href=\"#m829596846c\" x=\"289.488554\" y=\"130.918594\" style=\"stroke: #000000; stroke-width: 0.8\"/>\n      </g>\n     </g>\n     <g id=\"text_19\">\n      <!-- 5.0 -->\n      <g transform=\"translate(283.127304 143.997344) scale(0.08 -0.08)\">\n       <use xlink:href=\"#DejaVuSans-35\"/>\n       <use xlink:href=\"#DejaVuSans-2e\" x=\"63.623047\"/>\n       <use xlink:href=\"#DejaVuSans-30\" x=\"95.410156\"/>\n      </g>\n     </g>\n    </g>\n   </g>\n   <g id=\"matplotlib.axis_6\">\n    <g id=\"ytick_11\">\n     <g id=\"line2d_18\">\n      <g>\n       <use xlink:href=\"#m95fa0fd3b3\" x=\"232.186897\" y=\"130.918594\" style=\"stroke: #000000; stroke-width: 0.8\"/>\n      </g>\n     </g>\n     <g id=\"text_20\">\n      <!-- 0 -->\n      <g transform=\"translate(220.096897 133.957969) scale(0.08 -0.08)\">\n       <use xlink:href=\"#DejaVuSans-30\"/>\n      </g>\n     </g>\n    </g>\n    <g id=\"ytick_12\">\n     <g id=\"line2d_19\">\n      <g>\n       <use xlink:href=\"#m95fa0fd3b3\" x=\"232.186897\" y=\"110.610901\" style=\"stroke: #000000; stroke-width: 0.8\"/>\n      </g>\n     </g>\n     <g id=\"text_21\">\n      <!-- 5 -->\n      <g transform=\"translate(220.096897 113.650276) scale(0.08 -0.08)\">\n       <use xlink:href=\"#DejaVuSans-35\"/>\n      </g>\n     </g>\n    </g>\n    <g id=\"ytick_13\">\n     <g id=\"line2d_20\">\n      <g>\n       <use xlink:href=\"#m95fa0fd3b3\" x=\"232.186897\" y=\"90.303209\" style=\"stroke: #000000; stroke-width: 0.8\"/>\n      </g>\n     </g>\n     <g id=\"text_22\">\n      <!-- 10 -->\n      <g transform=\"translate(215.006897 93.342584) scale(0.08 -0.08)\">\n       <use xlink:href=\"#DejaVuSans-31\"/>\n       <use xlink:href=\"#DejaVuSans-30\" x=\"63.623047\"/>\n      </g>\n     </g>\n    </g>\n    <g id=\"ytick_14\">\n     <g id=\"line2d_21\">\n      <g>\n       <use xlink:href=\"#m95fa0fd3b3\" x=\"232.186897\" y=\"69.995517\" style=\"stroke: #000000; stroke-width: 0.8\"/>\n      </g>\n     </g>\n     <g id=\"text_23\">\n      <!-- 15 -->\n      <g transform=\"translate(215.006897 73.034892) scale(0.08 -0.08)\">\n       <use xlink:href=\"#DejaVuSans-31\"/>\n       <use xlink:href=\"#DejaVuSans-35\" x=\"63.623047\"/>\n      </g>\n     </g>\n    </g>\n    <g id=\"ytick_15\">\n     <g id=\"line2d_22\">\n      <g>\n       <use xlink:href=\"#m95fa0fd3b3\" x=\"232.186897\" y=\"49.687825\" style=\"stroke: #000000; stroke-width: 0.8\"/>\n      </g>\n     </g>\n     <g id=\"text_24\">\n      <!-- 20 -->\n      <g transform=\"translate(215.006897 52.7272) scale(0.08 -0.08)\">\n       <use xlink:href=\"#DejaVuSans-32\"/>\n       <use xlink:href=\"#DejaVuSans-30\" x=\"63.623047\"/>\n      </g>\n     </g>\n    </g>\n    <g id=\"ytick_16\">\n     <g id=\"line2d_23\">\n      <g>\n       <use xlink:href=\"#m95fa0fd3b3\" x=\"232.186897\" y=\"29.380132\" style=\"stroke: #000000; stroke-width: 0.8\"/>\n      </g>\n     </g>\n     <g id=\"text_25\">\n      <!-- 25 -->\n      <g transform=\"translate(215.006897 32.419507) scale(0.08 -0.08)\">\n       <use xlink:href=\"#DejaVuSans-32\"/>\n       <use xlink:href=\"#DejaVuSans-35\" x=\"63.623047\"/>\n      </g>\n     </g>\n    </g>\n   </g>\n   <g id=\"patch_52\">\n    <path d=\"M 232.186897 130.918594 \nL 232.186897 20.038594 \n\" style=\"fill: none; stroke: #000000; stroke-width: 0.8; stroke-linejoin: miter; stroke-linecap: square\"/>\n   </g>\n   <g id=\"patch_53\">\n    <path d=\"M 318.773103 130.918594 \nL 318.773103 20.038594 \n\" style=\"fill: none; stroke: #000000; stroke-width: 0.8; stroke-linejoin: miter; stroke-linecap: square\"/>\n   </g>\n   <g id=\"patch_54\">\n    <path d=\"M 232.186897 130.918594 \nL 318.773103 130.918594 \n\" style=\"fill: none; stroke: #000000; stroke-width: 0.8; stroke-linejoin: miter; stroke-linecap: square\"/>\n   </g>\n   <g id=\"patch_55\">\n    <path d=\"M 232.186897 20.038594 \nL 318.773103 20.038594 \n\" style=\"fill: none; stroke: #000000; stroke-width: 0.8; stroke-linejoin: miter; stroke-linecap: square\"/>\n   </g>\n   <g id=\"text_26\">\n    <!-- petal length (cm) -->\n    <g transform=\"translate(236.509297 14.038594) scale(0.09 -0.09)\">\n     <use xlink:href=\"#DejaVuSans-70\"/>\n     <use xlink:href=\"#DejaVuSans-65\" x=\"63.476562\"/>\n     <use xlink:href=\"#DejaVuSans-74\" x=\"125\"/>\n     <use xlink:href=\"#DejaVuSans-61\" x=\"164.208984\"/>\n     <use xlink:href=\"#DejaVuSans-6c\" x=\"225.488281\"/>\n     <use xlink:href=\"#DejaVuSans-20\" x=\"253.271484\"/>\n     <use xlink:href=\"#DejaVuSans-6c\" x=\"285.058594\"/>\n     <use xlink:href=\"#DejaVuSans-65\" x=\"312.841797\"/>\n     <use xlink:href=\"#DejaVuSans-6e\" x=\"374.365234\"/>\n     <use xlink:href=\"#DejaVuSans-67\" x=\"437.744141\"/>\n     <use xlink:href=\"#DejaVuSans-74\" x=\"501.220703\"/>\n     <use xlink:href=\"#DejaVuSans-68\" x=\"540.429688\"/>\n     <use xlink:href=\"#DejaVuSans-20\" x=\"603.808594\"/>\n     <use xlink:href=\"#DejaVuSans-28\" x=\"635.595703\"/>\n     <use xlink:href=\"#DejaVuSans-63\" x=\"674.609375\"/>\n     <use xlink:href=\"#DejaVuSans-6d\" x=\"729.589844\"/>\n     <use xlink:href=\"#DejaVuSans-29\" x=\"827.001953\"/>\n    </g>\n   </g>\n  </g>\n  <g id=\"axes_4\">\n   <g id=\"patch_56\">\n    <path d=\"M 336.090345 130.918594 \nL 422.676552 130.918594 \nL 422.676552 20.038594 \nL 336.090345 20.038594 \nz\n\" style=\"fill: #ffffff\"/>\n   </g>\n   <g id=\"patch_57\">\n    <path d=\"M 340.026082 130.918594 \nL 346.081061 130.918594 \nL 346.081061 25.318594 \nL 340.026082 25.318594 \nz\n\" clip-path=\"url(#p7359e90761)\" style=\"fill: #1f77b4\"/>\n   </g>\n   <g id=\"patch_58\">\n    <path d=\"M 346.081061 130.918594 \nL 352.136041 130.918594 \nL 352.136041 87.436241 \nL 346.081061 87.436241 \nz\n\" clip-path=\"url(#p7359e90761)\" style=\"fill: #1f77b4\"/>\n   </g>\n   <g id=\"patch_59\">\n    <path d=\"M 352.136041 130.918594 \nL 358.19102 130.918594 \nL 358.19102 124.706829 \nL 352.136041 124.706829 \nz\n\" clip-path=\"url(#p7359e90761)\" style=\"fill: #1f77b4\"/>\n   </g>\n   <g id=\"patch_60\">\n    <path d=\"M 358.19102 130.918594 \nL 364.246 130.918594 \nL 364.246 130.918594 \nL 358.19102 130.918594 \nz\n\" clip-path=\"url(#p7359e90761)\" style=\"fill: #1f77b4\"/>\n   </g>\n   <g id=\"patch_61\">\n    <path d=\"M 364.246 130.918594 \nL 370.300979 130.918594 \nL 370.300979 109.177417 \nL 364.246 109.177417 \nz\n\" clip-path=\"url(#p7359e90761)\" style=\"fill: #1f77b4\"/>\n   </g>\n   <g id=\"patch_62\">\n    <path d=\"M 370.300979 130.918594 \nL 376.355959 130.918594 \nL 376.355959 106.071535 \nL 370.300979 106.071535 \nz\n\" clip-path=\"url(#p7359e90761)\" style=\"fill: #1f77b4\"/>\n   </g>\n   <g id=\"patch_63\">\n    <path d=\"M 376.355959 130.918594 \nL 382.410938 130.918594 \nL 382.410938 90.542123 \nL 376.355959 90.542123 \nz\n\" clip-path=\"url(#p7359e90761)\" style=\"fill: #1f77b4\"/>\n   </g>\n   <g id=\"patch_64\">\n    <path d=\"M 382.410938 130.918594 \nL 388.465918 130.918594 \nL 388.465918 68.800947 \nL 382.410938 68.800947 \nz\n\" clip-path=\"url(#p7359e90761)\" style=\"fill: #1f77b4\"/>\n   </g>\n   <g id=\"patch_65\">\n    <path d=\"M 388.465918 130.918594 \nL 394.520897 130.918594 \nL 394.520897 112.2833 \nL 388.465918 112.2833 \nz\n\" clip-path=\"url(#p7359e90761)\" style=\"fill: #1f77b4\"/>\n   </g>\n   <g id=\"patch_66\">\n    <path d=\"M 394.520897 130.918594 \nL 400.575877 130.918594 \nL 400.575877 78.118594 \nL 394.520897 78.118594 \nz\n\" clip-path=\"url(#p7359e90761)\" style=\"fill: #1f77b4\"/>\n   </g>\n   <g id=\"patch_67\">\n    <path d=\"M 400.575877 130.918594 \nL 406.630856 130.918594 \nL 406.630856 93.648006 \nL 400.575877 93.648006 \nz\n\" clip-path=\"url(#p7359e90761)\" style=\"fill: #1f77b4\"/>\n   </g>\n   <g id=\"patch_68\">\n    <path d=\"M 406.630856 130.918594 \nL 412.685836 130.918594 \nL 412.685836 96.753888 \nL 406.630856 96.753888 \nz\n\" clip-path=\"url(#p7359e90761)\" style=\"fill: #1f77b4\"/>\n   </g>\n   <g id=\"patch_69\">\n    <path d=\"M 412.685836 130.918594 \nL 418.740815 130.918594 \nL 418.740815 112.2833 \nL 412.685836 112.2833 \nz\n\" clip-path=\"url(#p7359e90761)\" style=\"fill: #1f77b4\"/>\n   </g>\n   <g id=\"matplotlib.axis_7\">\n    <g id=\"xtick_8\">\n     <g id=\"line2d_24\">\n      <g>\n       <use xlink:href=\"#m829596846c\" x=\"336.746301\" y=\"130.918594\" style=\"stroke: #000000; stroke-width: 0.8\"/>\n      </g>\n     </g>\n     <g id=\"text_27\">\n      <!-- 0 -->\n      <g transform=\"translate(334.201301 143.997344) scale(0.08 -0.08)\">\n       <use xlink:href=\"#DejaVuSans-30\"/>\n      </g>\n     </g>\n    </g>\n    <g id=\"xtick_9\">\n     <g id=\"line2d_25\">\n      <g>\n       <use xlink:href=\"#m829596846c\" x=\"369.544107\" y=\"130.918594\" style=\"stroke: #000000; stroke-width: 0.8\"/>\n      </g>\n     </g>\n     <g id=\"text_28\">\n      <!-- 1 -->\n      <g transform=\"translate(366.999107 143.997344) scale(0.08 -0.08)\">\n       <use xlink:href=\"#DejaVuSans-31\"/>\n      </g>\n     </g>\n    </g>\n    <g id=\"xtick_10\">\n     <g id=\"line2d_26\">\n      <g>\n       <use xlink:href=\"#m829596846c\" x=\"402.341912\" y=\"130.918594\" style=\"stroke: #000000; stroke-width: 0.8\"/>\n      </g>\n     </g>\n     <g id=\"text_29\">\n      <!-- 2 -->\n      <g transform=\"translate(399.796912 143.997344) scale(0.08 -0.08)\">\n       <use xlink:href=\"#DejaVuSans-32\"/>\n      </g>\n     </g>\n    </g>\n   </g>\n   <g id=\"matplotlib.axis_8\">\n    <g id=\"ytick_17\">\n     <g id=\"line2d_27\">\n      <g>\n       <use xlink:href=\"#m95fa0fd3b3\" x=\"336.090345\" y=\"130.918594\" style=\"stroke: #000000; stroke-width: 0.8\"/>\n      </g>\n     </g>\n     <g id=\"text_30\">\n      <!-- 0 -->\n      <g transform=\"translate(324.000345 133.957969) scale(0.08 -0.08)\">\n       <use xlink:href=\"#DejaVuSans-30\"/>\n      </g>\n     </g>\n    </g>\n    <g id=\"ytick_18\">\n     <g id=\"line2d_28\">\n      <g>\n       <use xlink:href=\"#m95fa0fd3b3\" x=\"336.090345\" y=\"99.85977\" style=\"stroke: #000000; stroke-width: 0.8\"/>\n      </g>\n     </g>\n     <g id=\"text_31\">\n      <!-- 10 -->\n      <g transform=\"translate(318.910345 102.899145) scale(0.08 -0.08)\">\n       <use xlink:href=\"#DejaVuSans-31\"/>\n       <use xlink:href=\"#DejaVuSans-30\" x=\"63.623047\"/>\n      </g>\n     </g>\n    </g>\n    <g id=\"ytick_19\">\n     <g id=\"line2d_29\">\n      <g>\n       <use xlink:href=\"#m95fa0fd3b3\" x=\"336.090345\" y=\"68.800947\" style=\"stroke: #000000; stroke-width: 0.8\"/>\n      </g>\n     </g>\n     <g id=\"text_32\">\n      <!-- 20 -->\n      <g transform=\"translate(318.910345 71.840322) scale(0.08 -0.08)\">\n       <use xlink:href=\"#DejaVuSans-32\"/>\n       <use xlink:href=\"#DejaVuSans-30\" x=\"63.623047\"/>\n      </g>\n     </g>\n    </g>\n    <g id=\"ytick_20\">\n     <g id=\"line2d_30\">\n      <g>\n       <use xlink:href=\"#m95fa0fd3b3\" x=\"336.090345\" y=\"37.742123\" style=\"stroke: #000000; stroke-width: 0.8\"/>\n      </g>\n     </g>\n     <g id=\"text_33\">\n      <!-- 30 -->\n      <g transform=\"translate(318.910345 40.781498) scale(0.08 -0.08)\">\n       <use xlink:href=\"#DejaVuSans-33\"/>\n       <use xlink:href=\"#DejaVuSans-30\" x=\"63.623047\"/>\n      </g>\n     </g>\n    </g>\n   </g>\n   <g id=\"patch_70\">\n    <path d=\"M 336.090345 130.918594 \nL 336.090345 20.038594 \n\" style=\"fill: none; stroke: #000000; stroke-width: 0.8; stroke-linejoin: miter; stroke-linecap: square\"/>\n   </g>\n   <g id=\"patch_71\">\n    <path d=\"M 422.676552 130.918594 \nL 422.676552 20.038594 \n\" style=\"fill: none; stroke: #000000; stroke-width: 0.8; stroke-linejoin: miter; stroke-linecap: square\"/>\n   </g>\n   <g id=\"patch_72\">\n    <path d=\"M 336.090345 130.918594 \nL 422.676552 130.918594 \n\" style=\"fill: none; stroke: #000000; stroke-width: 0.8; stroke-linejoin: miter; stroke-linecap: square\"/>\n   </g>\n   <g id=\"patch_73\">\n    <path d=\"M 336.090345 20.038594 \nL 422.676552 20.038594 \n\" style=\"fill: none; stroke: #000000; stroke-width: 0.8; stroke-linejoin: miter; stroke-linecap: square\"/>\n   </g>\n   <g id=\"text_34\">\n    <!-- petal width (cm) -->\n    <g transform=\"translate(342.35337 14.038594) scale(0.09 -0.09)\">\n     <use xlink:href=\"#DejaVuSans-70\"/>\n     <use xlink:href=\"#DejaVuSans-65\" x=\"63.476562\"/>\n     <use xlink:href=\"#DejaVuSans-74\" x=\"125\"/>\n     <use xlink:href=\"#DejaVuSans-61\" x=\"164.208984\"/>\n     <use xlink:href=\"#DejaVuSans-6c\" x=\"225.488281\"/>\n     <use xlink:href=\"#DejaVuSans-20\" x=\"253.271484\"/>\n     <use xlink:href=\"#DejaVuSans-77\" x=\"285.058594\"/>\n     <use xlink:href=\"#DejaVuSans-69\" x=\"366.845703\"/>\n     <use xlink:href=\"#DejaVuSans-64\" x=\"394.628906\"/>\n     <use xlink:href=\"#DejaVuSans-74\" x=\"458.105469\"/>\n     <use xlink:href=\"#DejaVuSans-68\" x=\"497.314453\"/>\n     <use xlink:href=\"#DejaVuSans-20\" x=\"560.693359\"/>\n     <use xlink:href=\"#DejaVuSans-28\" x=\"592.480469\"/>\n     <use xlink:href=\"#DejaVuSans-63\" x=\"631.494141\"/>\n     <use xlink:href=\"#DejaVuSans-6d\" x=\"686.474609\"/>\n     <use xlink:href=\"#DejaVuSans-29\" x=\"783.886719\"/>\n    </g>\n   </g>\n  </g>\n  <g id=\"axes_5\">\n   <g id=\"patch_74\">\n    <path d=\"M 439.993793 130.918594 \nL 526.58 130.918594 \nL 526.58 20.038594 \nL 439.993793 20.038594 \nz\n\" style=\"fill: #ffffff\"/>\n   </g>\n   <g id=\"patch_75\">\n    <path d=\"M 443.92953 130.918594 \nL 449.984509 130.918594 \nL 449.984509 25.318594 \nL 443.92953 25.318594 \nz\n\" clip-path=\"url(#p4e939ca8e6)\" style=\"fill: #1f77b4\"/>\n   </g>\n   <g id=\"patch_76\">\n    <path d=\"M 449.984509 130.918594 \nL 456.039489 130.918594 \nL 456.039489 130.918594 \nL 449.984509 130.918594 \nz\n\" clip-path=\"url(#p4e939ca8e6)\" style=\"fill: #1f77b4\"/>\n   </g>\n   <g id=\"patch_77\">\n    <path d=\"M 456.039489 130.918594 \nL 462.094468 130.918594 \nL 462.094468 130.918594 \nL 456.039489 130.918594 \nz\n\" clip-path=\"url(#p4e939ca8e6)\" style=\"fill: #1f77b4\"/>\n   </g>\n   <g id=\"patch_78\">\n    <path d=\"M 462.094468 130.918594 \nL 468.149448 130.918594 \nL 468.149448 130.918594 \nL 462.094468 130.918594 \nz\n\" clip-path=\"url(#p4e939ca8e6)\" style=\"fill: #1f77b4\"/>\n   </g>\n   <g id=\"patch_79\">\n    <path d=\"M 468.149448 130.918594 \nL 474.204427 130.918594 \nL 474.204427 130.918594 \nL 468.149448 130.918594 \nz\n\" clip-path=\"url(#p4e939ca8e6)\" style=\"fill: #1f77b4\"/>\n   </g>\n   <g id=\"patch_80\">\n    <path d=\"M 474.204427 130.918594 \nL 480.259407 130.918594 \nL 480.259407 130.918594 \nL 474.204427 130.918594 \nz\n\" clip-path=\"url(#p4e939ca8e6)\" style=\"fill: #1f77b4\"/>\n   </g>\n   <g id=\"patch_81\">\n    <path d=\"M 480.259407 130.918594 \nL 486.314386 130.918594 \nL 486.314386 25.318594 \nL 480.259407 25.318594 \nz\n\" clip-path=\"url(#p4e939ca8e6)\" style=\"fill: #1f77b4\"/>\n   </g>\n   <g id=\"patch_82\">\n    <path d=\"M 486.314386 130.918594 \nL 492.369366 130.918594 \nL 492.369366 130.918594 \nL 486.314386 130.918594 \nz\n\" clip-path=\"url(#p4e939ca8e6)\" style=\"fill: #1f77b4\"/>\n   </g>\n   <g id=\"patch_83\">\n    <path d=\"M 492.369366 130.918594 \nL 498.424345 130.918594 \nL 498.424345 130.918594 \nL 492.369366 130.918594 \nz\n\" clip-path=\"url(#p4e939ca8e6)\" style=\"fill: #1f77b4\"/>\n   </g>\n   <g id=\"patch_84\">\n    <path d=\"M 498.424345 130.918594 \nL 504.479325 130.918594 \nL 504.479325 130.918594 \nL 498.424345 130.918594 \nz\n\" clip-path=\"url(#p4e939ca8e6)\" style=\"fill: #1f77b4\"/>\n   </g>\n   <g id=\"patch_85\">\n    <path d=\"M 504.479325 130.918594 \nL 510.534304 130.918594 \nL 510.534304 130.918594 \nL 504.479325 130.918594 \nz\n\" clip-path=\"url(#p4e939ca8e6)\" style=\"fill: #1f77b4\"/>\n   </g>\n   <g id=\"patch_86\">\n    <path d=\"M 510.534304 130.918594 \nL 516.589284 130.918594 \nL 516.589284 130.918594 \nL 510.534304 130.918594 \nz\n\" clip-path=\"url(#p4e939ca8e6)\" style=\"fill: #1f77b4\"/>\n   </g>\n   <g id=\"patch_87\">\n    <path d=\"M 516.589284 130.918594 \nL 522.644263 130.918594 \nL 522.644263 25.318594 \nL 516.589284 25.318594 \nz\n\" clip-path=\"url(#p4e939ca8e6)\" style=\"fill: #1f77b4\"/>\n   </g>\n   <g id=\"matplotlib.axis_9\">\n    <g id=\"xtick_11\">\n     <g id=\"line2d_31\">\n      <g>\n       <use xlink:href=\"#m829596846c\" x=\"443.92953\" y=\"130.918594\" style=\"stroke: #000000; stroke-width: 0.8\"/>\n      </g>\n     </g>\n     <g id=\"text_35\">\n      <!-- 0 -->\n      <g transform=\"translate(441.38453 143.997344) scale(0.08 -0.08)\">\n       <use xlink:href=\"#DejaVuSans-30\"/>\n      </g>\n     </g>\n    </g>\n    <g id=\"xtick_12\">\n     <g id=\"line2d_32\">\n      <g>\n       <use xlink:href=\"#m829596846c\" x=\"483.286897\" y=\"130.918594\" style=\"stroke: #000000; stroke-width: 0.8\"/>\n      </g>\n     </g>\n     <g id=\"text_36\">\n      <!-- 1 -->\n      <g transform=\"translate(480.741897 143.997344) scale(0.08 -0.08)\">\n       <use xlink:href=\"#DejaVuSans-31\"/>\n      </g>\n     </g>\n    </g>\n    <g id=\"xtick_13\">\n     <g id=\"line2d_33\">\n      <g>\n       <use xlink:href=\"#m829596846c\" x=\"522.644263\" y=\"130.918594\" style=\"stroke: #000000; stroke-width: 0.8\"/>\n      </g>\n     </g>\n     <g id=\"text_37\">\n      <!-- 2 -->\n      <g transform=\"translate(520.099263 143.997344) scale(0.08 -0.08)\">\n       <use xlink:href=\"#DejaVuSans-32\"/>\n      </g>\n     </g>\n    </g>\n   </g>\n   <g id=\"matplotlib.axis_10\">\n    <g id=\"ytick_21\">\n     <g id=\"line2d_34\">\n      <g>\n       <use xlink:href=\"#m95fa0fd3b3\" x=\"439.993793\" y=\"130.918594\" style=\"stroke: #000000; stroke-width: 0.8\"/>\n      </g>\n     </g>\n     <g id=\"text_38\">\n      <!-- 0 -->\n      <g transform=\"translate(427.903793 133.957969) scale(0.08 -0.08)\">\n       <use xlink:href=\"#DejaVuSans-30\"/>\n      </g>\n     </g>\n    </g>\n    <g id=\"ytick_22\">\n     <g id=\"line2d_35\">\n      <g>\n       <use xlink:href=\"#m95fa0fd3b3\" x=\"439.993793\" y=\"109.798594\" style=\"stroke: #000000; stroke-width: 0.8\"/>\n      </g>\n     </g>\n     <g id=\"text_39\">\n      <!-- 10 -->\n      <g transform=\"translate(422.813793 112.837969) scale(0.08 -0.08)\">\n       <use xlink:href=\"#DejaVuSans-31\"/>\n       <use xlink:href=\"#DejaVuSans-30\" x=\"63.623047\"/>\n      </g>\n     </g>\n    </g>\n    <g id=\"ytick_23\">\n     <g id=\"line2d_36\">\n      <g>\n       <use xlink:href=\"#m95fa0fd3b3\" x=\"439.993793\" y=\"88.678594\" style=\"stroke: #000000; stroke-width: 0.8\"/>\n      </g>\n     </g>\n     <g id=\"text_40\">\n      <!-- 20 -->\n      <g transform=\"translate(422.813793 91.717969) scale(0.08 -0.08)\">\n       <use xlink:href=\"#DejaVuSans-32\"/>\n       <use xlink:href=\"#DejaVuSans-30\" x=\"63.623047\"/>\n      </g>\n     </g>\n    </g>\n    <g id=\"ytick_24\">\n     <g id=\"line2d_37\">\n      <g>\n       <use xlink:href=\"#m95fa0fd3b3\" x=\"439.993793\" y=\"67.558594\" style=\"stroke: #000000; stroke-width: 0.8\"/>\n      </g>\n     </g>\n     <g id=\"text_41\">\n      <!-- 30 -->\n      <g transform=\"translate(422.813793 70.597969) scale(0.08 -0.08)\">\n       <use xlink:href=\"#DejaVuSans-33\"/>\n       <use xlink:href=\"#DejaVuSans-30\" x=\"63.623047\"/>\n      </g>\n     </g>\n    </g>\n    <g id=\"ytick_25\">\n     <g id=\"line2d_38\">\n      <g>\n       <use xlink:href=\"#m95fa0fd3b3\" x=\"439.993793\" y=\"46.438594\" style=\"stroke: #000000; stroke-width: 0.8\"/>\n      </g>\n     </g>\n     <g id=\"text_42\">\n      <!-- 40 -->\n      <g transform=\"translate(422.813793 49.477969) scale(0.08 -0.08)\">\n       <use xlink:href=\"#DejaVuSans-34\"/>\n       <use xlink:href=\"#DejaVuSans-30\" x=\"63.623047\"/>\n      </g>\n     </g>\n    </g>\n    <g id=\"ytick_26\">\n     <g id=\"line2d_39\">\n      <g>\n       <use xlink:href=\"#m95fa0fd3b3\" x=\"439.993793\" y=\"25.318594\" style=\"stroke: #000000; stroke-width: 0.8\"/>\n      </g>\n     </g>\n     <g id=\"text_43\">\n      <!-- 50 -->\n      <g transform=\"translate(422.813793 28.357969) scale(0.08 -0.08)\">\n       <use xlink:href=\"#DejaVuSans-35\"/>\n       <use xlink:href=\"#DejaVuSans-30\" x=\"63.623047\"/>\n      </g>\n     </g>\n    </g>\n   </g>\n   <g id=\"patch_88\">\n    <path d=\"M 439.993793 130.918594 \nL 439.993793 20.038594 \n\" style=\"fill: none; stroke: #000000; stroke-width: 0.8; stroke-linejoin: miter; stroke-linecap: square\"/>\n   </g>\n   <g id=\"patch_89\">\n    <path d=\"M 526.58 130.918594 \nL 526.58 20.038594 \n\" style=\"fill: none; stroke: #000000; stroke-width: 0.8; stroke-linejoin: miter; stroke-linecap: square\"/>\n   </g>\n   <g id=\"patch_90\">\n    <path d=\"M 439.993793 130.918594 \nL 526.58 130.918594 \n\" style=\"fill: none; stroke: #000000; stroke-width: 0.8; stroke-linejoin: miter; stroke-linecap: square\"/>\n   </g>\n   <g id=\"patch_91\">\n    <path d=\"M 439.993793 20.038594 \nL 526.58 20.038594 \n\" style=\"fill: none; stroke: #000000; stroke-width: 0.8; stroke-linejoin: miter; stroke-linecap: square\"/>\n   </g>\n   <g id=\"text_44\">\n    <!-- target -->\n    <g transform=\"translate(469.604084 14.038594) scale(0.09 -0.09)\">\n     <defs>\n      <path id=\"DejaVuSans-72\" d=\"M 2631 2963 \nQ 2534 3019 2420 3045 \nQ 2306 3072 2169 3072 \nQ 1681 3072 1420 2755 \nQ 1159 2438 1159 1844 \nL 1159 0 \nL 581 0 \nL 581 3500 \nL 1159 3500 \nL 1159 2956 \nQ 1341 3275 1631 3429 \nQ 1922 3584 2338 3584 \nQ 2397 3584 2469 3576 \nQ 2541 3569 2628 3553 \nL 2631 2963 \nz\n\" transform=\"scale(0.015625)\"/>\n     </defs>\n     <use xlink:href=\"#DejaVuSans-74\"/>\n     <use xlink:href=\"#DejaVuSans-61\" x=\"39.208984\"/>\n     <use xlink:href=\"#DejaVuSans-72\" x=\"100.488281\"/>\n     <use xlink:href=\"#DejaVuSans-67\" x=\"139.851562\"/>\n     <use xlink:href=\"#DejaVuSans-65\" x=\"203.328125\"/>\n     <use xlink:href=\"#DejaVuSans-74\" x=\"264.851562\"/>\n    </g>\n   </g>\n  </g>\n </g>\n <defs>\n  <clipPath id=\"pef57badfea\">\n   <rect x=\"24.38\" y=\"20.038594\" width=\"86.586207\" height=\"110.88\"/>\n  </clipPath>\n  <clipPath id=\"p5a4a365d0a\">\n   <rect x=\"128.283448\" y=\"20.038594\" width=\"86.586207\" height=\"110.88\"/>\n  </clipPath>\n  <clipPath id=\"p9c3e36f072\">\n   <rect x=\"232.186897\" y=\"20.038594\" width=\"86.586207\" height=\"110.88\"/>\n  </clipPath>\n  <clipPath id=\"p7359e90761\">\n   <rect x=\"336.090345\" y=\"20.038594\" width=\"86.586207\" height=\"110.88\"/>\n  </clipPath>\n  <clipPath id=\"p4e939ca8e6\">\n   <rect x=\"439.993793\" y=\"20.038594\" width=\"86.586207\" height=\"110.88\"/>\n  </clipPath>\n </defs>\n</svg>\n",
      "text/plain": [
       "<Figure size 900x200 with 5 Axes>"
      ]
     },
     "metadata": {},
     "output_type": "display_data"
    }
   ],
   "source": [
    "plt.figure(figsize=(9,2))\n",
    "for (i,v) in enumerate(df.columns):\n",
    "    plt.subplot(1,df.shape[1],i+1);\n",
    "    plt.hist(df.iloc[:,i],bins=\"sqrt\")\n",
    "    plt.title(df.columns[i],fontsize=9);"
   ]
  },
  {
   "cell_type": "code",
   "execution_count": 29,
   "metadata": {},
   "outputs": [
    {
     "data": {
      "text/html": [
       "<style type=\"text/css\">\n",
       "#T_e185c_row0_col0, #T_e185c_row1_col1, #T_e185c_row2_col2, #T_e185c_row3_col3, #T_e185c_row4_col4 {\n",
       "  background-color: #fde725;\n",
       "  color: #000000;\n",
       "}\n",
       "#T_e185c_row0_col1 {\n",
       "  background-color: #3f4889;\n",
       "  color: #f1f1f1;\n",
       "}\n",
       "#T_e185c_row0_col2 {\n",
       "  background-color: #c2df23;\n",
       "  color: #000000;\n",
       "}\n",
       "#T_e185c_row0_col3 {\n",
       "  background-color: #a8db34;\n",
       "  color: #000000;\n",
       "}\n",
       "#T_e185c_row0_col4 {\n",
       "  background-color: #98d83e;\n",
       "  color: #000000;\n",
       "}\n",
       "#T_e185c_row1_col0, #T_e185c_row1_col2, #T_e185c_row1_col3, #T_e185c_row1_col4, #T_e185c_row2_col1, #T_e185c_row4_col1 {\n",
       "  background-color: #440154;\n",
       "  color: #f1f1f1;\n",
       "}\n",
       "#T_e185c_row2_col0 {\n",
       "  background-color: #b2dd2d;\n",
       "  color: #000000;\n",
       "}\n",
       "#T_e185c_row2_col3, #T_e185c_row3_col2, #T_e185c_row3_col4, #T_e185c_row4_col3 {\n",
       "  background-color: #ece51b;\n",
       "  color: #000000;\n",
       "}\n",
       "#T_e185c_row2_col4, #T_e185c_row4_col2 {\n",
       "  background-color: #eae51a;\n",
       "  color: #000000;\n",
       "}\n",
       "#T_e185c_row3_col0 {\n",
       "  background-color: #93d741;\n",
       "  color: #000000;\n",
       "}\n",
       "#T_e185c_row3_col1 {\n",
       "  background-color: #471063;\n",
       "  color: #f1f1f1;\n",
       "}\n",
       "#T_e185c_row4_col0 {\n",
       "  background-color: #7cd250;\n",
       "  color: #000000;\n",
       "}\n",
       "</style>\n",
       "<table id=\"T_e185c\">\n",
       "  <thead>\n",
       "    <tr>\n",
       "      <th class=\"blank level0\" >&nbsp;</th>\n",
       "      <th id=\"T_e185c_level0_col0\" class=\"col_heading level0 col0\" >sepal length (cm)</th>\n",
       "      <th id=\"T_e185c_level0_col1\" class=\"col_heading level0 col1\" >sepal width (cm)</th>\n",
       "      <th id=\"T_e185c_level0_col2\" class=\"col_heading level0 col2\" >petal length (cm)</th>\n",
       "      <th id=\"T_e185c_level0_col3\" class=\"col_heading level0 col3\" >petal width (cm)</th>\n",
       "      <th id=\"T_e185c_level0_col4\" class=\"col_heading level0 col4\" >target</th>\n",
       "    </tr>\n",
       "  </thead>\n",
       "  <tbody>\n",
       "    <tr>\n",
       "      <th id=\"T_e185c_level0_row0\" class=\"row_heading level0 row0\" >sepal length (cm)</th>\n",
       "      <td id=\"T_e185c_row0_col0\" class=\"data row0 col0\" >1.000000</td>\n",
       "      <td id=\"T_e185c_row0_col1\" class=\"data row0 col1\" >-0.120000</td>\n",
       "      <td id=\"T_e185c_row0_col2\" class=\"data row0 col2\" >0.870000</td>\n",
       "      <td id=\"T_e185c_row0_col3\" class=\"data row0 col3\" >0.820000</td>\n",
       "      <td id=\"T_e185c_row0_col4\" class=\"data row0 col4\" >0.780000</td>\n",
       "    </tr>\n",
       "    <tr>\n",
       "      <th id=\"T_e185c_level0_row1\" class=\"row_heading level0 row1\" >sepal width (cm)</th>\n",
       "      <td id=\"T_e185c_row1_col0\" class=\"data row1 col0\" >-0.120000</td>\n",
       "      <td id=\"T_e185c_row1_col1\" class=\"data row1 col1\" >1.000000</td>\n",
       "      <td id=\"T_e185c_row1_col2\" class=\"data row1 col2\" >-0.430000</td>\n",
       "      <td id=\"T_e185c_row1_col3\" class=\"data row1 col3\" >-0.370000</td>\n",
       "      <td id=\"T_e185c_row1_col4\" class=\"data row1 col4\" >-0.430000</td>\n",
       "    </tr>\n",
       "    <tr>\n",
       "      <th id=\"T_e185c_level0_row2\" class=\"row_heading level0 row2\" >petal length (cm)</th>\n",
       "      <td id=\"T_e185c_row2_col0\" class=\"data row2 col0\" >0.870000</td>\n",
       "      <td id=\"T_e185c_row2_col1\" class=\"data row2 col1\" >-0.430000</td>\n",
       "      <td id=\"T_e185c_row2_col2\" class=\"data row2 col2\" >1.000000</td>\n",
       "      <td id=\"T_e185c_row2_col3\" class=\"data row2 col3\" >0.960000</td>\n",
       "      <td id=\"T_e185c_row2_col4\" class=\"data row2 col4\" >0.950000</td>\n",
       "    </tr>\n",
       "    <tr>\n",
       "      <th id=\"T_e185c_level0_row3\" class=\"row_heading level0 row3\" >petal width (cm)</th>\n",
       "      <td id=\"T_e185c_row3_col0\" class=\"data row3 col0\" >0.820000</td>\n",
       "      <td id=\"T_e185c_row3_col1\" class=\"data row3 col1\" >-0.370000</td>\n",
       "      <td id=\"T_e185c_row3_col2\" class=\"data row3 col2\" >0.960000</td>\n",
       "      <td id=\"T_e185c_row3_col3\" class=\"data row3 col3\" >1.000000</td>\n",
       "      <td id=\"T_e185c_row3_col4\" class=\"data row3 col4\" >0.960000</td>\n",
       "    </tr>\n",
       "    <tr>\n",
       "      <th id=\"T_e185c_level0_row4\" class=\"row_heading level0 row4\" >target</th>\n",
       "      <td id=\"T_e185c_row4_col0\" class=\"data row4 col0\" >0.780000</td>\n",
       "      <td id=\"T_e185c_row4_col1\" class=\"data row4 col1\" >-0.430000</td>\n",
       "      <td id=\"T_e185c_row4_col2\" class=\"data row4 col2\" >0.950000</td>\n",
       "      <td id=\"T_e185c_row4_col3\" class=\"data row4 col3\" >0.960000</td>\n",
       "      <td id=\"T_e185c_row4_col4\" class=\"data row4 col4\" >1.000000</td>\n",
       "    </tr>\n",
       "  </tbody>\n",
       "</table>\n"
      ],
      "text/plain": [
       "<pandas.io.formats.style.Styler at 0x2efc04c9bb0>"
      ]
     },
     "execution_count": 29,
     "metadata": {},
     "output_type": "execute_result"
    }
   ],
   "source": [
    "df.corr().round(2).style.background_gradient(cmap=\"viridis\")"
   ]
  },
  {
   "cell_type": "code",
   "execution_count": 30,
   "metadata": {},
   "outputs": [],
   "source": [
    "scale = StandardScaler(with_mean=True,with_std=True);\n",
    "Xo = scale.fit_transform(df.drop([\"target\"],axis=1).values);"
   ]
  },
  {
   "cell_type": "code",
   "execution_count": 31,
   "metadata": {},
   "outputs": [
    {
     "name": "stdout",
     "output_type": "stream",
     "text": [
      "Nr. of features after PCA = 3 (input = 4)\n"
     ]
    }
   ],
   "source": [
    "pca = PCA(n_components=0.99)# or set n_components=\"mle\"\n",
    "X = pca.fit_transform(Xo)\n",
    "print(\"Nr. of features after PCA = {} (input = {})\".format(X.shape[1],Xo.shape[1]))"
   ]
  },
  {
   "cell_type": "code",
   "execution_count": null,
   "metadata": {},
   "outputs": [],
   "source": []
  },
  {
   "cell_type": "code",
   "execution_count": 32,
   "metadata": {},
   "outputs": [],
   "source": [
    "y = LabelEncoder().fit_transform(df[\"target\"].values);\n",
    "[X_train,X_test,y_train,y_test] = train_test_split(X,y,train_size = 0.67,test_size = 0.33,\n",
    "                                                   stratify=y,random_state=123);"
   ]
  },
  {
   "cell_type": "code",
   "execution_count": 33,
   "metadata": {},
   "outputs": [],
   "source": [
    "model = KNeighborsClassifier(algorithm=\"auto\");\n",
    "parameters = {\"n_neighbors\":[1,3,5],\n",
    "              \"weights\":[\"uniform\",\"distance\"]}\n",
    "model_optim = GridSearchCV(model, parameters, cv=5,scoring=\"accuracy\");"
   ]
  },
  {
   "cell_type": "code",
   "execution_count": 34,
   "metadata": {},
   "outputs": [],
   "source": [
    "model_optim.fit(X_train,y_train);"
   ]
  },
  {
   "cell_type": "code",
   "execution_count": 35,
   "metadata": {},
   "outputs": [],
   "source": [
    "model_optim.best_estimator_;"
   ]
  },
  {
   "cell_type": "code",
   "execution_count": 36,
   "metadata": {},
   "outputs": [
    {
     "name": "stdout",
     "output_type": "stream",
     "text": [
      "Classification kNN Train  report:\n",
      "               precision    recall  f1-score   support\n",
      "\n",
      "           0       1.00      1.00      1.00        34\n",
      "           1       1.00      1.00      1.00        33\n",
      "           2       1.00      1.00      1.00        33\n",
      "\n",
      "    accuracy                           1.00       100\n",
      "   macro avg       1.00      1.00      1.00       100\n",
      "weighted avg       1.00      1.00      1.00       100\n",
      "\n",
      "Classification kNN Test  report:\n",
      "               precision    recall  f1-score   support\n",
      "\n",
      "           0       1.00      1.00      1.00        16\n",
      "           1       1.00      0.88      0.94        17\n",
      "           2       0.89      1.00      0.94        17\n",
      "\n",
      "    accuracy                           0.96        50\n",
      "   macro avg       0.96      0.96      0.96        50\n",
      "weighted avg       0.96      0.96      0.96        50\n",
      "\n"
     ]
    }
   ],
   "source": [
    "for (i,x,y) in zip([\"Train\",\"Test\"],[X_train,X_test],[y_train,y_test]):\n",
    "    print(\"Classification kNN\",i,\" report:\\n\",classification_report(y,model_optim.predict(x)))"
   ]
  },
  {
   "cell_type": "code",
   "execution_count": 37,
   "metadata": {},
   "outputs": [
    {
     "name": "stdout",
     "output_type": "stream",
     "text": [
      "Classification  most_frequent  test report:               precision    recall  f1-score   support\n",
      "\n",
      "           0       0.32      1.00      0.48        16\n",
      "           1       0.00      0.00      0.00        17\n",
      "           2       0.00      0.00      0.00        17\n",
      "\n",
      "    accuracy                           0.32        50\n",
      "   macro avg       0.11      0.33      0.16        50\n",
      "weighted avg       0.10      0.32      0.16        50\n",
      "\n",
      "Classification  uniform  test report:               precision    recall  f1-score   support\n",
      "\n",
      "           0       0.26      0.38      0.31        16\n",
      "           1       0.26      0.29      0.28        17\n",
      "           2       0.25      0.12      0.16        17\n",
      "\n",
      "    accuracy                           0.26        50\n",
      "   macro avg       0.26      0.26      0.25        50\n",
      "weighted avg       0.26      0.26      0.25        50\n",
      "\n"
     ]
    },
    {
     "name": "stderr",
     "output_type": "stream",
     "text": [
      "c:\\Users\\danyl\\anaconda3\\envs\\Apple\\lib\\site-packages\\sklearn\\metrics\\_classification.py:1344: UndefinedMetricWarning: Precision and F-score are ill-defined and being set to 0.0 in labels with no predicted samples. Use `zero_division` parameter to control this behavior.\n",
      "  _warn_prf(average, modifier, msg_start, len(result))\n",
      "c:\\Users\\danyl\\anaconda3\\envs\\Apple\\lib\\site-packages\\sklearn\\metrics\\_classification.py:1344: UndefinedMetricWarning: Precision and F-score are ill-defined and being set to 0.0 in labels with no predicted samples. Use `zero_division` parameter to control this behavior.\n",
      "  _warn_prf(average, modifier, msg_start, len(result))\n",
      "c:\\Users\\danyl\\anaconda3\\envs\\Apple\\lib\\site-packages\\sklearn\\metrics\\_classification.py:1344: UndefinedMetricWarning: Precision and F-score are ill-defined and being set to 0.0 in labels with no predicted samples. Use `zero_division` parameter to control this behavior.\n",
      "  _warn_prf(average, modifier, msg_start, len(result))\n"
     ]
    }
   ],
   "source": [
    "for i in [\"most_frequent\",\"uniform\"]:\n",
    "    dummy = DummyClassifier(strategy=i).fit(X_train,y_train);\n",
    "    print(\"Classification \",i,\" test report:\",classification_report(y_test,dummy.predict(X_test)))"
   ]
  },
  {
   "cell_type": "code",
   "execution_count": null,
   "metadata": {},
   "outputs": [],
   "source": []
  },
  {
   "cell_type": "code",
   "execution_count": null,
   "metadata": {},
   "outputs": [],
   "source": []
  }
 ],
 "metadata": {
  "kernelspec": {
   "display_name": "Apple",
   "language": "python",
   "name": "python3"
  },
  "language_info": {
   "codemirror_mode": {
    "name": "ipython",
    "version": 3
   },
   "file_extension": ".py",
   "mimetype": "text/x-python",
   "name": "python",
   "nbconvert_exporter": "python",
   "pygments_lexer": "ipython3",
   "version": "3.9.16"
  },
  "orig_nbformat": 4,
  "vscode": {
   "interpreter": {
    "hash": "630e1206aef4ed5525f96439cc51fec7ecb85180c517d1ece393f0339d2dd2d2"
   }
  }
 },
 "nbformat": 4,
 "nbformat_minor": 2
}
